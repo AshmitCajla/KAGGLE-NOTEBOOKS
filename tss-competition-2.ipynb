{
 "cells": [
  {
   "cell_type": "code",
   "execution_count": 1,
   "id": "2403739c",
   "metadata": {
    "_cell_guid": "b1076dfc-b9ad-4769-8c92-a6c4dae69d19",
    "_uuid": "8f2839f25d086af736a60e9eeb907d3b93b6e0e5",
    "execution": {
     "iopub.execute_input": "2023-07-12T18:43:58.021219Z",
     "iopub.status.busy": "2023-07-12T18:43:58.020699Z",
     "iopub.status.idle": "2023-07-12T18:44:30.954327Z",
     "shell.execute_reply": "2023-07-12T18:44:30.952017Z"
    },
    "papermill": {
     "duration": 32.947639,
     "end_time": "2023-07-12T18:44:30.958766",
     "exception": false,
     "start_time": "2023-07-12T18:43:58.011127",
     "status": "completed"
    },
    "tags": []
   },
   "outputs": [
    {
     "name": "stdout",
     "output_type": "stream",
     "text": [
      "Collecting pycaret\r\n"
     ]
    },
    {
     "name": "stdout",
     "output_type": "stream",
     "text": [
      "  Downloading pycaret-3.0.4-py3-none-any.whl (484 kB)\r\n",
      "\u001b[?25l     \u001b[90m━━━━━━━━━━━━━━━━━━━━━━━━━━━━━━━━━━━━━━━━\u001b[0m \u001b[32m0.0/484.4 kB\u001b[0m \u001b[31m?\u001b[0m eta \u001b[36m-:--:--\u001b[0m\r",
      "\u001b[2K     \u001b[91m━━━━━━━━━━━━━━━━━━━━━\u001b[0m\u001b[90m╺\u001b[0m\u001b[90m━━━━━━━━━━━━━━━━━\u001b[0m \u001b[32m266.2/484.4 kB\u001b[0m \u001b[31m7.7 MB/s\u001b[0m eta \u001b[36m0:00:01\u001b[0m"
     ]
    },
    {
     "name": "stdout",
     "output_type": "stream",
     "text": [
      "\r",
      "\u001b[2K     \u001b[90m━━━━━━━━━━━━━━━━━━━━━━━━━━━━━━━━━━━━━━━\u001b[0m \u001b[32m484.4/484.4 kB\u001b[0m \u001b[31m8.3 MB/s\u001b[0m eta \u001b[36m0:00:00\u001b[0m\r\n",
      "\u001b[?25h"
     ]
    },
    {
     "name": "stdout",
     "output_type": "stream",
     "text": [
      "Requirement already satisfied: ipython>=5.5.0 in /opt/conda/lib/python3.10/site-packages (from pycaret) (8.14.0)\r\n",
      "Requirement already satisfied: ipywidgets>=7.6.5 in /opt/conda/lib/python3.10/site-packages (from pycaret) (7.7.1)\r\n",
      "Requirement already satisfied: tqdm>=4.62.0 in /opt/conda/lib/python3.10/site-packages (from pycaret) (4.65.0)\r\n",
      "Requirement already satisfied: numpy<1.24,>=1.21 in /opt/conda/lib/python3.10/site-packages (from pycaret) (1.23.5)\r\n",
      "Requirement already satisfied: pandas<2.0.0,>=1.3.0 in /opt/conda/lib/python3.10/site-packages (from pycaret) (1.5.3)\r\n",
      "Requirement already satisfied: jinja2>=1.2 in /opt/conda/lib/python3.10/site-packages (from pycaret) (3.1.2)\r\n",
      "Requirement already satisfied: scipy<2.0.0 in /opt/conda/lib/python3.10/site-packages (from pycaret) (1.11.1)\r\n",
      "Requirement already satisfied: joblib>=1.2.0 in /opt/conda/lib/python3.10/site-packages (from pycaret) (1.2.0)\r\n",
      "Requirement already satisfied: scikit-learn<1.3.0,>=1.0 in /opt/conda/lib/python3.10/site-packages (from pycaret) (1.2.2)\r\n"
     ]
    },
    {
     "name": "stdout",
     "output_type": "stream",
     "text": [
      "Collecting pyod>=1.0.8 (from pycaret)\r\n",
      "  Downloading pyod-1.1.0.tar.gz (153 kB)\r\n"
     ]
    },
    {
     "name": "stdout",
     "output_type": "stream",
     "text": [
      "\u001b[?25l     \u001b[90m━━━━━━━━━━━━━━━━━━━━━━━━━━━━━━━━━━━━━━━━\u001b[0m \u001b[32m0.0/153.4 kB\u001b[0m \u001b[31m?\u001b[0m eta \u001b[36m-:--:--\u001b[0m\r",
      "\u001b[2K     \u001b[90m━━━━━━━━━━━━━━━━━━━━━━━━━━━━━━━━━━━━━━\u001b[0m \u001b[32m153.4/153.4 kB\u001b[0m \u001b[31m13.5 MB/s\u001b[0m eta \u001b[36m0:00:00\u001b[0m\r\n",
      "\u001b[?25h"
     ]
    },
    {
     "name": "stdout",
     "output_type": "stream",
     "text": [
      "  Preparing metadata (setup.py) ... \u001b[?25l-"
     ]
    },
    {
     "name": "stdout",
     "output_type": "stream",
     "text": [
      "\b \b\\"
     ]
    },
    {
     "name": "stdout",
     "output_type": "stream",
     "text": [
      "\b \bdone\r\n",
      "\u001b[?25hRequirement already satisfied: imbalanced-learn>=0.8.1 in /opt/conda/lib/python3.10/site-packages (from pycaret) (0.10.1)\r\n",
      "Requirement already satisfied: category-encoders>=2.4.0 in /opt/conda/lib/python3.10/site-packages (from pycaret) (2.6.1)\r\n",
      "Requirement already satisfied: lightgbm>=3.0.0 in /opt/conda/lib/python3.10/site-packages (from pycaret) (3.3.2)\r\n",
      "Requirement already satisfied: numba>=0.55.0 in /opt/conda/lib/python3.10/site-packages (from pycaret) (0.57.1)\r\n",
      "Requirement already satisfied: requests>=2.27.1 in /opt/conda/lib/python3.10/site-packages (from pycaret) (2.31.0)\r\n",
      "Requirement already satisfied: psutil>=5.9.0 in /opt/conda/lib/python3.10/site-packages (from pycaret) (5.9.3)\r\n",
      "Requirement already satisfied: markupsafe>=2.0.1 in /opt/conda/lib/python3.10/site-packages (from pycaret) (2.1.3)\r\n",
      "Requirement already satisfied: importlib-metadata>=4.12.0 in /opt/conda/lib/python3.10/site-packages (from pycaret) (6.7.0)\r\n",
      "Requirement already satisfied: nbformat>=4.2.0 in /opt/conda/lib/python3.10/site-packages (from pycaret) (5.9.0)\r\n",
      "Requirement already satisfied: cloudpickle in /opt/conda/lib/python3.10/site-packages (from pycaret) (2.2.1)\r\n",
      "Requirement already satisfied: deprecation>=2.1.0 in /opt/conda/lib/python3.10/site-packages (from pycaret) (2.1.0)\r\n",
      "Requirement already satisfied: xxhash in /opt/conda/lib/python3.10/site-packages (from pycaret) (3.2.0)\r\n",
      "Requirement already satisfied: matplotlib>=3.3.0 in /opt/conda/lib/python3.10/site-packages (from pycaret) (3.7.1)\r\n",
      "Requirement already satisfied: scikit-plot>=0.3.7 in /opt/conda/lib/python3.10/site-packages (from pycaret) (0.3.7)\r\n",
      "Requirement already satisfied: yellowbrick>=1.4 in /opt/conda/lib/python3.10/site-packages (from pycaret) (1.5)\r\n",
      "Requirement already satisfied: plotly>=5.0.0 in /opt/conda/lib/python3.10/site-packages (from pycaret) (5.15.0)\r\n"
     ]
    },
    {
     "name": "stdout",
     "output_type": "stream",
     "text": [
      "Collecting kaleido>=0.2.1 (from pycaret)\r\n",
      "  Downloading kaleido-0.2.1-py2.py3-none-manylinux1_x86_64.whl (79.9 MB)\r\n",
      "\u001b[?25l     \u001b[90m━━━━━━━━━━━━━━━━━━━━━━━━━━━━━━━━━━━━━━━━\u001b[0m \u001b[32m0.0/79.9 MB\u001b[0m \u001b[31m?\u001b[0m eta \u001b[36m-:--:--\u001b[0m"
     ]
    },
    {
     "name": "stdout",
     "output_type": "stream",
     "text": [
      "\r",
      "\u001b[2K     \u001b[91m━\u001b[0m\u001b[90m╺\u001b[0m\u001b[90m━━━━━━━━━━━━━━━━━━━━━━━━━━━━━━━━━━━━━━\u001b[0m \u001b[32m2.8/79.9 MB\u001b[0m \u001b[31m84.8 MB/s\u001b[0m eta \u001b[36m0:00:01\u001b[0m\r",
      "\u001b[2K     \u001b[91m━━━\u001b[0m\u001b[91m╸\u001b[0m\u001b[90m━━━━━━━━━━━━━━━━━━━━━━━━━━━━━━━━━━━━\u001b[0m \u001b[32m7.1/79.9 MB\u001b[0m \u001b[31m102.5 MB/s\u001b[0m eta \u001b[36m0:00:01\u001b[0m"
     ]
    },
    {
     "name": "stdout",
     "output_type": "stream",
     "text": [
      "\r",
      "\u001b[2K     \u001b[91m━━━━━\u001b[0m\u001b[91m╸\u001b[0m\u001b[90m━━━━━━━━━━━━━━━━━━━━━━━━━━━━━━━━━\u001b[0m \u001b[32m11.8/79.9 MB\u001b[0m \u001b[31m125.6 MB/s\u001b[0m eta \u001b[36m0:00:01\u001b[0m"
     ]
    },
    {
     "name": "stdout",
     "output_type": "stream",
     "text": [
      "\r",
      "\u001b[2K     \u001b[91m━━━━━━━\u001b[0m\u001b[91m╸\u001b[0m\u001b[90m━━━━━━━━━━━━━━━━━━━━━━━━━━━━━━━\u001b[0m \u001b[32m16.4/79.9 MB\u001b[0m \u001b[31m129.7 MB/s\u001b[0m eta \u001b[36m0:00:01\u001b[0m"
     ]
    },
    {
     "name": "stdout",
     "output_type": "stream",
     "text": [
      "\r",
      "\u001b[2K     \u001b[91m━━━━━━━━━━\u001b[0m\u001b[90m╺\u001b[0m\u001b[90m━━━━━━━━━━━━━━━━━━━━━━━━━━━━\u001b[0m \u001b[32m21.0/79.9 MB\u001b[0m \u001b[31m127.4 MB/s\u001b[0m eta \u001b[36m0:00:01\u001b[0m\r",
      "\u001b[2K     \u001b[91m━━━━━━━━━━━━\u001b[0m\u001b[90m╺\u001b[0m\u001b[90m━━━━━━━━━━━━━━━━━━━━━━━━━━\u001b[0m \u001b[32m25.6/79.9 MB\u001b[0m \u001b[31m125.6 MB/s\u001b[0m eta \u001b[36m0:00:01\u001b[0m"
     ]
    },
    {
     "name": "stdout",
     "output_type": "stream",
     "text": [
      "\r",
      "\u001b[2K     \u001b[91m━━━━━━━━━━━━━━\u001b[0m\u001b[91m╸\u001b[0m\u001b[90m━━━━━━━━━━━━━━━━━━━━━━━━\u001b[0m \u001b[32m30.0/79.9 MB\u001b[0m \u001b[31m122.6 MB/s\u001b[0m eta \u001b[36m0:00:01\u001b[0m"
     ]
    },
    {
     "name": "stdout",
     "output_type": "stream",
     "text": [
      "\r",
      "\u001b[2K     \u001b[91m━━━━━━━━━━━━━━━━\u001b[0m\u001b[91m╸\u001b[0m\u001b[90m━━━━━━━━━━━━━━━━━━━━━━\u001b[0m \u001b[32m34.3/79.9 MB\u001b[0m \u001b[31m121.8 MB/s\u001b[0m eta \u001b[36m0:00:01\u001b[0m\r",
      "\u001b[2K     \u001b[91m━━━━━━━━━━━━━━━━━━\u001b[0m\u001b[91m╸\u001b[0m\u001b[90m━━━━━━━━━━━━━━━━━━━━\u001b[0m \u001b[32m38.4/79.9 MB\u001b[0m \u001b[31m118.8 MB/s\u001b[0m eta \u001b[36m0:00:01\u001b[0m"
     ]
    },
    {
     "name": "stdout",
     "output_type": "stream",
     "text": [
      "\r",
      "\u001b[2K     \u001b[91m━━━━━━━━━━━━━━━━━━━━\u001b[0m\u001b[91m╸\u001b[0m\u001b[90m━━━━━━━━━━━━━━━━━━\u001b[0m \u001b[32m42.9/79.9 MB\u001b[0m \u001b[31m119.1 MB/s\u001b[0m eta \u001b[36m0:00:01\u001b[0m"
     ]
    },
    {
     "name": "stdout",
     "output_type": "stream",
     "text": [
      "\r",
      "\u001b[2K     \u001b[91m━━━━━━━━━━━━━━━━━━━━━━\u001b[0m\u001b[91m╸\u001b[0m\u001b[90m━━━━━━━━━━━━━━━━\u001b[0m \u001b[32m46.8/79.9 MB\u001b[0m \u001b[31m116.5 MB/s\u001b[0m eta \u001b[36m0:00:01\u001b[0m\r",
      "\u001b[2K     \u001b[91m━━━━━━━━━━━━━━━━━━━━━━━━━\u001b[0m\u001b[90m╺\u001b[0m\u001b[90m━━━━━━━━━━━━━\u001b[0m \u001b[32m51.8/79.9 MB\u001b[0m \u001b[31m125.0 MB/s\u001b[0m eta \u001b[36m0:00:01\u001b[0m"
     ]
    },
    {
     "name": "stdout",
     "output_type": "stream",
     "text": [
      "\r",
      "\u001b[2K     \u001b[91m━━━━━━━━━━━━━━━━━━━━━━━━━━━\u001b[0m\u001b[91m╸\u001b[0m\u001b[90m━━━━━━━━━━━\u001b[0m \u001b[32m56.5/79.9 MB\u001b[0m \u001b[31m133.6 MB/s\u001b[0m eta \u001b[36m0:00:01\u001b[0m"
     ]
    },
    {
     "name": "stdout",
     "output_type": "stream",
     "text": [
      "\r",
      "\u001b[2K     \u001b[91m━━━━━━━━━━━━━━━━━━━━━━━━━━━━━\u001b[0m\u001b[91m╸\u001b[0m\u001b[90m━━━━━━━━━\u001b[0m \u001b[32m61.5/79.9 MB\u001b[0m \u001b[31m133.6 MB/s\u001b[0m eta \u001b[36m0:00:01\u001b[0m"
     ]
    },
    {
     "name": "stdout",
     "output_type": "stream",
     "text": [
      "\r",
      "\u001b[2K     \u001b[91m━━━━━━━━━━━━━━━━━━━━━━━━━━━━━━━━\u001b[0m\u001b[90m╺\u001b[0m\u001b[90m━━━━━━\u001b[0m \u001b[32m66.3/79.9 MB\u001b[0m \u001b[31m135.9 MB/s\u001b[0m eta \u001b[36m0:00:01\u001b[0m\r",
      "\u001b[2K     \u001b[91m━━━━━━━━━━━━━━━━━━━━━━━━━━━━━━━━━━\u001b[0m\u001b[91m╸\u001b[0m\u001b[90m━━━━\u001b[0m \u001b[32m71.1/79.9 MB\u001b[0m \u001b[31m131.7 MB/s\u001b[0m eta \u001b[36m0:00:01\u001b[0m"
     ]
    },
    {
     "name": "stdout",
     "output_type": "stream",
     "text": [
      "\r",
      "\u001b[2K     \u001b[91m━━━━━━━━━━━━━━━━━━━━━━━━━━━━━━━━━━━━━\u001b[0m\u001b[90m╺\u001b[0m\u001b[90m━\u001b[0m \u001b[32m76.0/79.9 MB\u001b[0m \u001b[31m131.2 MB/s\u001b[0m eta \u001b[36m0:00:01\u001b[0m"
     ]
    },
    {
     "name": "stdout",
     "output_type": "stream",
     "text": [
      "\r",
      "\u001b[2K     \u001b[91m━━━━━━━━━━━━━━━━━━━━━━━━━━━━━━━━━━━━━━\u001b[0m\u001b[91m╸\u001b[0m \u001b[32m79.9/79.9 MB\u001b[0m \u001b[31m136.7 MB/s\u001b[0m eta \u001b[36m0:00:01\u001b[0m"
     ]
    },
    {
     "name": "stdout",
     "output_type": "stream",
     "text": [
      "\r",
      "\u001b[2K     \u001b[91m━━━━━━━━━━━━━━━━━━━━━━━━━━━━━━━━━━━━━━\u001b[0m\u001b[91m╸\u001b[0m \u001b[32m79.9/79.9 MB\u001b[0m \u001b[31m136.7 MB/s\u001b[0m eta \u001b[36m0:00:01\u001b[0m"
     ]
    },
    {
     "name": "stdout",
     "output_type": "stream",
     "text": [
      "\r",
      "\u001b[2K     \u001b[91m━━━━━━━━━━━━━━━━━━━━━━━━━━━━━━━━━━━━━━\u001b[0m\u001b[91m╸\u001b[0m \u001b[32m79.9/79.9 MB\u001b[0m \u001b[31m136.7 MB/s\u001b[0m eta \u001b[36m0:00:01\u001b[0m"
     ]
    },
    {
     "name": "stdout",
     "output_type": "stream",
     "text": [
      "\r",
      "\u001b[2K     \u001b[91m━━━━━━━━━━━━━━━━━━━━━━━━━━━━━━━━━━━━━━\u001b[0m\u001b[91m╸\u001b[0m \u001b[32m79.9/79.9 MB\u001b[0m \u001b[31m136.7 MB/s\u001b[0m eta \u001b[36m0:00:01\u001b[0m\r",
      "\u001b[2K     \u001b[91m━━━━━━━━━━━━━━━━━━━━━━━━━━━━━━━━━━━━━━\u001b[0m\u001b[91m╸\u001b[0m \u001b[32m79.9/79.9 MB\u001b[0m \u001b[31m136.7 MB/s\u001b[0m eta \u001b[36m0:00:01\u001b[0m"
     ]
    },
    {
     "name": "stdout",
     "output_type": "stream",
     "text": [
      "\r",
      "\u001b[2K     \u001b[91m━━━━━━━━━━━━━━━━━━━━━━━━━━━━━━━━━━━━━━\u001b[0m\u001b[91m╸\u001b[0m \u001b[32m79.9/79.9 MB\u001b[0m \u001b[31m136.7 MB/s\u001b[0m eta \u001b[36m0:00:01\u001b[0m"
     ]
    },
    {
     "name": "stdout",
     "output_type": "stream",
     "text": [
      "\r",
      "\u001b[2K     \u001b[91m━━━━━━━━━━━━━━━━━━━━━━━━━━━━━━━━━━━━━━\u001b[0m\u001b[91m╸\u001b[0m \u001b[32m79.9/79.9 MB\u001b[0m \u001b[31m136.7 MB/s\u001b[0m eta \u001b[36m0:00:01\u001b[0m\r",
      "\u001b[2K     \u001b[91m━━━━━━━━━━━━━━━━━━━━━━━━━━━━━━━━━━━━━━\u001b[0m\u001b[91m╸\u001b[0m \u001b[32m79.9/79.9 MB\u001b[0m \u001b[31m136.7 MB/s\u001b[0m eta \u001b[36m0:00:01\u001b[0m"
     ]
    },
    {
     "name": "stdout",
     "output_type": "stream",
     "text": [
      "\r",
      "\u001b[2K     \u001b[91m━━━━━━━━━━━━━━━━━━━━━━━━━━━━━━━━━━━━━━\u001b[0m\u001b[91m╸\u001b[0m \u001b[32m79.9/79.9 MB\u001b[0m \u001b[31m136.7 MB/s\u001b[0m eta \u001b[36m0:00:01\u001b[0m"
     ]
    },
    {
     "name": "stdout",
     "output_type": "stream",
     "text": [
      "\r",
      "\u001b[2K     \u001b[91m━━━━━━━━━━━━━━━━━━━━━━━━━━━━━━━━━━━━━━\u001b[0m\u001b[91m╸\u001b[0m \u001b[32m79.9/79.9 MB\u001b[0m \u001b[31m136.7 MB/s\u001b[0m eta \u001b[36m0:00:01\u001b[0m\r",
      "\u001b[2K     \u001b[91m━━━━━━━━━━━━━━━━━━━━━━━━━━━━━━━━━━━━━━\u001b[0m\u001b[91m╸\u001b[0m \u001b[32m79.9/79.9 MB\u001b[0m \u001b[31m136.7 MB/s\u001b[0m eta \u001b[36m0:00:01\u001b[0m"
     ]
    },
    {
     "name": "stdout",
     "output_type": "stream",
     "text": [
      "\r",
      "\u001b[2K     \u001b[91m━━━━━━━━━━━━━━━━━━━━━━━━━━━━━━━━━━━━━━\u001b[0m\u001b[91m╸\u001b[0m \u001b[32m79.9/79.9 MB\u001b[0m \u001b[31m136.7 MB/s\u001b[0m eta \u001b[36m0:00:01\u001b[0m"
     ]
    },
    {
     "name": "stdout",
     "output_type": "stream",
     "text": [
      "\r",
      "\u001b[2K     \u001b[91m━━━━━━━━━━━━━━━━━━━━━━━━━━━━━━━━━━━━━━\u001b[0m\u001b[91m╸\u001b[0m \u001b[32m79.9/79.9 MB\u001b[0m \u001b[31m136.7 MB/s\u001b[0m eta \u001b[36m0:00:01\u001b[0m"
     ]
    },
    {
     "name": "stdout",
     "output_type": "stream",
     "text": [
      "\r",
      "\u001b[2K     \u001b[91m━━━━━━━━━━━━━━━━━━━━━━━━━━━━━━━━━━━━━━\u001b[0m\u001b[91m╸\u001b[0m \u001b[32m79.9/79.9 MB\u001b[0m \u001b[31m136.7 MB/s\u001b[0m eta \u001b[36m0:00:01\u001b[0m\r",
      "\u001b[2K     \u001b[91m━━━━━━━━━━━━━━━━━━━━━━━━━━━━━━━━━━━━━━\u001b[0m\u001b[91m╸\u001b[0m \u001b[32m79.9/79.9 MB\u001b[0m \u001b[31m136.7 MB/s\u001b[0m eta \u001b[36m0:00:01\u001b[0m"
     ]
    },
    {
     "name": "stdout",
     "output_type": "stream",
     "text": [
      "\r",
      "\u001b[2K     \u001b[91m━━━━━━━━━━━━━━━━━━━━━━━━━━━━━━━━━━━━━━\u001b[0m\u001b[91m╸\u001b[0m \u001b[32m79.9/79.9 MB\u001b[0m \u001b[31m136.7 MB/s\u001b[0m eta \u001b[36m0:00:01\u001b[0m"
     ]
    },
    {
     "name": "stdout",
     "output_type": "stream",
     "text": [
      "\r",
      "\u001b[2K     \u001b[90m━━━━━━━━━━━━━━━━━━━━━━━━━━━━━━━━━━━━━━━━\u001b[0m \u001b[32m79.9/79.9 MB\u001b[0m \u001b[31m13.7 MB/s\u001b[0m eta \u001b[36m0:00:00\u001b[0m\r\n",
      "\u001b[?25h"
     ]
    },
    {
     "name": "stdout",
     "output_type": "stream",
     "text": [
      "Collecting schemdraw==0.15 (from pycaret)\r\n"
     ]
    },
    {
     "name": "stdout",
     "output_type": "stream",
     "text": [
      "  Downloading schemdraw-0.15-py3-none-any.whl (106 kB)\r\n",
      "\u001b[?25l     \u001b[90m━━━━━━━━━━━━━━━━━━━━━━━━━━━━━━━━━━━━━━━━\u001b[0m \u001b[32m0.0/106.8 kB\u001b[0m \u001b[31m?\u001b[0m eta \u001b[36m-:--:--\u001b[0m\r",
      "\u001b[2K     \u001b[90m━━━━━━━━━━━━━━━━━━━━━━━━━━━━━━━━━━━━━━━\u001b[0m \u001b[32m106.8/106.8 kB\u001b[0m \u001b[31m9.5 MB/s\u001b[0m eta \u001b[36m0:00:00\u001b[0m\r\n",
      "\u001b[?25h"
     ]
    },
    {
     "name": "stdout",
     "output_type": "stream",
     "text": [
      "Collecting plotly-resampler>=0.8.3.1 (from pycaret)\r\n",
      "  Downloading plotly_resampler-0.9.0-py3-none-any.whl (73 kB)\r\n",
      "\u001b[?25l     \u001b[90m━━━━━━━━━━━━━━━━━━━━━━━━━━━━━━━━━━━━━━━━\u001b[0m \u001b[32m0.0/73.3 kB\u001b[0m \u001b[31m?\u001b[0m eta \u001b[36m-:--:--\u001b[0m\r",
      "\u001b[2K     \u001b[90m━━━━━━━━━━━━━━━━━━━━━━━━━━━━━━━━━━━━━━━━\u001b[0m \u001b[32m73.3/73.3 kB\u001b[0m \u001b[31m5.8 MB/s\u001b[0m eta \u001b[36m0:00:00\u001b[0m\r\n",
      "\u001b[?25hRequirement already satisfied: statsmodels>=0.12.1 in /opt/conda/lib/python3.10/site-packages (from pycaret) (0.14.0)\r\n"
     ]
    },
    {
     "name": "stdout",
     "output_type": "stream",
     "text": [
      "Collecting sktime!=0.17.1,!=0.17.2,!=0.18.0,>=0.16.1 (from pycaret)\r\n",
      "  Downloading sktime-0.20.0-py3-none-any.whl (17.0 MB)\r\n",
      "\u001b[?25l     \u001b[90m━━━━━━━━━━━━━━━━━━━━━━━━━━━━━━━━━━━━━━━━\u001b[0m \u001b[32m0.0/17.0 MB\u001b[0m \u001b[31m?\u001b[0m eta \u001b[36m-:--:--\u001b[0m"
     ]
    },
    {
     "name": "stdout",
     "output_type": "stream",
     "text": [
      "\r",
      "\u001b[2K     \u001b[91m━━━━━━━━━━━\u001b[0m\u001b[90m╺\u001b[0m\u001b[90m━━━━━━━━━━━━━━━━━━━━━━━━━━━━\u001b[0m \u001b[32m4.9/17.0 MB\u001b[0m \u001b[31m146.8 MB/s\u001b[0m eta \u001b[36m0:00:01\u001b[0m"
     ]
    },
    {
     "name": "stdout",
     "output_type": "stream",
     "text": [
      "\r",
      "\u001b[2K     \u001b[91m━━━━━━━━━━━━━━━━━━━━━━━\u001b[0m\u001b[90m╺\u001b[0m\u001b[90m━━━━━━━━━━━━━━━━\u001b[0m \u001b[32m9.9/17.0 MB\u001b[0m \u001b[31m144.0 MB/s\u001b[0m eta \u001b[36m0:00:01\u001b[0m\r",
      "\u001b[2K     \u001b[91m━━━━━━━━━━━━━━━━━━━━━━━━━━━━━━━━━━\u001b[0m\u001b[91m╸\u001b[0m\u001b[90m━━━━\u001b[0m \u001b[32m15.1/17.0 MB\u001b[0m \u001b[31m142.0 MB/s\u001b[0m eta \u001b[36m0:00:01\u001b[0m"
     ]
    },
    {
     "name": "stdout",
     "output_type": "stream",
     "text": [
      "\r",
      "\u001b[2K     \u001b[91m━━━━━━━━━━━━━━━━━━━━━━━━━━━━━━━━━━━━━━\u001b[0m\u001b[91m╸\u001b[0m \u001b[32m17.0/17.0 MB\u001b[0m \u001b[31m142.7 MB/s\u001b[0m eta \u001b[36m0:00:01\u001b[0m"
     ]
    },
    {
     "name": "stdout",
     "output_type": "stream",
     "text": [
      "\r",
      "\u001b[2K     \u001b[91m━━━━━━━━━━━━━━━━━━━━━━━━━━━━━━━━━━━━━━\u001b[0m\u001b[91m╸\u001b[0m \u001b[32m17.0/17.0 MB\u001b[0m \u001b[31m142.7 MB/s\u001b[0m eta \u001b[36m0:00:01\u001b[0m\r",
      "\u001b[2K     \u001b[90m━━━━━━━━━━━━━━━━━━━━━━━━━━━━━━━━━━━━━━━━\u001b[0m \u001b[32m17.0/17.0 MB\u001b[0m \u001b[31m61.8 MB/s\u001b[0m eta \u001b[36m0:00:00\u001b[0m\r\n",
      "\u001b[?25h"
     ]
    },
    {
     "name": "stdout",
     "output_type": "stream",
     "text": [
      "Collecting tbats>=1.1.3 (from pycaret)\r\n",
      "  Downloading tbats-1.1.3-py3-none-any.whl (44 kB)\r\n",
      "\u001b[?25l     \u001b[90m━━━━━━━━━━━━━━━━━━━━━━━━━━━━━━━━━━━━━━━━\u001b[0m \u001b[32m0.0/44.0 kB\u001b[0m \u001b[31m?\u001b[0m eta \u001b[36m-:--:--\u001b[0m\r",
      "\u001b[2K     \u001b[90m━━━━━━━━━━━━━━━━━━━━━━━━━━━━━━━━━━━━━━━━\u001b[0m \u001b[32m44.0/44.0 kB\u001b[0m \u001b[31m3.2 MB/s\u001b[0m eta \u001b[36m0:00:00\u001b[0m\r\n",
      "\u001b[?25h"
     ]
    },
    {
     "name": "stdout",
     "output_type": "stream",
     "text": [
      "Collecting pmdarima!=1.8.1,<3.0.0,>=1.8.0 (from pycaret)\r\n"
     ]
    },
    {
     "name": "stdout",
     "output_type": "stream",
     "text": [
      "  Downloading pmdarima-2.0.3-cp310-cp310-manylinux_2_17_x86_64.manylinux2014_x86_64.manylinux_2_28_x86_64.whl (1.8 MB)\r\n",
      "\u001b[?25l     \u001b[90m━━━━━━━━━━━━━━━━━━━━━━━━━━━━━━━━━━━━━━━━\u001b[0m \u001b[32m0.0/1.8 MB\u001b[0m \u001b[31m?\u001b[0m eta \u001b[36m-:--:--\u001b[0m\r",
      "\u001b[2K     \u001b[90m━━━━━━━━━━━━━━━━━━━━━━━━━━━━━━━━━━━━━━━━\u001b[0m \u001b[32m1.8/1.8 MB\u001b[0m \u001b[31m63.1 MB/s\u001b[0m eta \u001b[36m0:00:00\u001b[0m\r\n",
      "\u001b[?25hRequirement already satisfied: wurlitzer in /opt/conda/lib/python3.10/site-packages (from pycaret) (3.0.3)\r\n"
     ]
    },
    {
     "name": "stdout",
     "output_type": "stream",
     "text": [
      "Requirement already satisfied: patsy>=0.5.1 in /opt/conda/lib/python3.10/site-packages (from category-encoders>=2.4.0->pycaret) (0.5.3)\r\n",
      "Requirement already satisfied: packaging in /opt/conda/lib/python3.10/site-packages (from deprecation>=2.1.0->pycaret) (21.3)\r\n"
     ]
    },
    {
     "name": "stdout",
     "output_type": "stream",
     "text": [
      "Requirement already satisfied: threadpoolctl>=2.0.0 in /opt/conda/lib/python3.10/site-packages (from imbalanced-learn>=0.8.1->pycaret) (3.1.0)\r\n"
     ]
    },
    {
     "name": "stdout",
     "output_type": "stream",
     "text": [
      "Requirement already satisfied: zipp>=0.5 in /opt/conda/lib/python3.10/site-packages (from importlib-metadata>=4.12.0->pycaret) (3.15.0)\r\n"
     ]
    },
    {
     "name": "stdout",
     "output_type": "stream",
     "text": [
      "Requirement already satisfied: backcall in /opt/conda/lib/python3.10/site-packages (from ipython>=5.5.0->pycaret) (0.2.0)\r\n",
      "Requirement already satisfied: decorator in /opt/conda/lib/python3.10/site-packages (from ipython>=5.5.0->pycaret) (5.1.1)\r\n",
      "Requirement already satisfied: jedi>=0.16 in /opt/conda/lib/python3.10/site-packages (from ipython>=5.5.0->pycaret) (0.18.2)\r\n",
      "Requirement already satisfied: matplotlib-inline in /opt/conda/lib/python3.10/site-packages (from ipython>=5.5.0->pycaret) (0.1.6)\r\n",
      "Requirement already satisfied: pickleshare in /opt/conda/lib/python3.10/site-packages (from ipython>=5.5.0->pycaret) (0.7.5)\r\n",
      "Requirement already satisfied: prompt-toolkit!=3.0.37,<3.1.0,>=3.0.30 in /opt/conda/lib/python3.10/site-packages (from ipython>=5.5.0->pycaret) (3.0.38)\r\n",
      "Requirement already satisfied: pygments>=2.4.0 in /opt/conda/lib/python3.10/site-packages (from ipython>=5.5.0->pycaret) (2.15.1)\r\n",
      "Requirement already satisfied: stack-data in /opt/conda/lib/python3.10/site-packages (from ipython>=5.5.0->pycaret) (0.6.2)\r\n",
      "Requirement already satisfied: traitlets>=5 in /opt/conda/lib/python3.10/site-packages (from ipython>=5.5.0->pycaret) (5.9.0)\r\n",
      "Requirement already satisfied: pexpect>4.3 in /opt/conda/lib/python3.10/site-packages (from ipython>=5.5.0->pycaret) (4.8.0)\r\n"
     ]
    },
    {
     "name": "stdout",
     "output_type": "stream",
     "text": [
      "Requirement already satisfied: ipykernel>=4.5.1 in /opt/conda/lib/python3.10/site-packages (from ipywidgets>=7.6.5->pycaret) (6.23.3)\r\n",
      "Requirement already satisfied: ipython-genutils~=0.2.0 in /opt/conda/lib/python3.10/site-packages (from ipywidgets>=7.6.5->pycaret) (0.2.0)\r\n",
      "Requirement already satisfied: widgetsnbextension~=3.6.0 in /opt/conda/lib/python3.10/site-packages (from ipywidgets>=7.6.5->pycaret) (3.6.4)\r\n",
      "Requirement already satisfied: jupyterlab-widgets>=1.0.0 in /opt/conda/lib/python3.10/site-packages (from ipywidgets>=7.6.5->pycaret) (3.0.7)\r\n",
      "Requirement already satisfied: wheel in /opt/conda/lib/python3.10/site-packages (from lightgbm>=3.0.0->pycaret) (0.40.0)\r\n"
     ]
    },
    {
     "name": "stdout",
     "output_type": "stream",
     "text": [
      "Requirement already satisfied: contourpy>=1.0.1 in /opt/conda/lib/python3.10/site-packages (from matplotlib>=3.3.0->pycaret) (1.1.0)\r\n",
      "Requirement already satisfied: cycler>=0.10 in /opt/conda/lib/python3.10/site-packages (from matplotlib>=3.3.0->pycaret) (0.11.0)\r\n",
      "Requirement already satisfied: fonttools>=4.22.0 in /opt/conda/lib/python3.10/site-packages (from matplotlib>=3.3.0->pycaret) (4.40.0)\r\n",
      "Requirement already satisfied: kiwisolver>=1.0.1 in /opt/conda/lib/python3.10/site-packages (from matplotlib>=3.3.0->pycaret) (1.4.4)\r\n",
      "Requirement already satisfied: pillow>=6.2.0 in /opt/conda/lib/python3.10/site-packages (from matplotlib>=3.3.0->pycaret) (9.5.0)\r\n",
      "Requirement already satisfied: pyparsing>=2.3.1 in /opt/conda/lib/python3.10/site-packages (from matplotlib>=3.3.0->pycaret) (3.0.9)\r\n",
      "Requirement already satisfied: python-dateutil>=2.7 in /opt/conda/lib/python3.10/site-packages (from matplotlib>=3.3.0->pycaret) (2.8.2)\r\n",
      "Requirement already satisfied: fastjsonschema in /opt/conda/lib/python3.10/site-packages (from nbformat>=4.2.0->pycaret) (2.17.1)\r\n",
      "Requirement already satisfied: jsonschema>=2.6 in /opt/conda/lib/python3.10/site-packages (from nbformat>=4.2.0->pycaret) (4.17.3)\r\n",
      "Requirement already satisfied: jupyter-core in /opt/conda/lib/python3.10/site-packages (from nbformat>=4.2.0->pycaret) (5.3.1)\r\n",
      "Requirement already satisfied: llvmlite<0.41,>=0.40.0dev0 in /opt/conda/lib/python3.10/site-packages (from numba>=0.55.0->pycaret) (0.40.1)\r\n"
     ]
    },
    {
     "name": "stdout",
     "output_type": "stream",
     "text": [
      "Requirement already satisfied: pytz>=2020.1 in /opt/conda/lib/python3.10/site-packages (from pandas<2.0.0,>=1.3.0->pycaret) (2023.3)\r\n",
      "Requirement already satisfied: tenacity>=6.2.0 in /opt/conda/lib/python3.10/site-packages (from plotly>=5.0.0->pycaret) (8.2.2)\r\n"
     ]
    },
    {
     "name": "stdout",
     "output_type": "stream",
     "text": [
      "Collecting dash<3.0.0,>=2.11.0 (from plotly-resampler>=0.8.3.1->pycaret)\r\n"
     ]
    },
    {
     "name": "stdout",
     "output_type": "stream",
     "text": [
      "  Downloading dash-2.11.1-py3-none-any.whl (10.4 MB)\r\n",
      "\u001b[?25l     \u001b[90m━━━━━━━━━━━━━━━━━━━━━━━━━━━━━━━━━━━━━━━━\u001b[0m \u001b[32m0.0/10.4 MB\u001b[0m \u001b[31m?\u001b[0m eta \u001b[36m-:--:--\u001b[0m"
     ]
    },
    {
     "name": "stdout",
     "output_type": "stream",
     "text": [
      "\r",
      "\u001b[2K     \u001b[91m━━━━━━━━━━━━━━━━━━━━\u001b[0m\u001b[91m╸\u001b[0m\u001b[90m━━━━━━━━━━━━━━━━━━━\u001b[0m \u001b[32m5.3/10.4 MB\u001b[0m \u001b[31m159.7 MB/s\u001b[0m eta \u001b[36m0:00:01\u001b[0m\r",
      "\u001b[2K     \u001b[91m━━━━━━━━━━━━━━━━━━━━━━━━━━━━━━━━━━━━━━\u001b[0m\u001b[91m╸\u001b[0m \u001b[32m10.4/10.4 MB\u001b[0m \u001b[31m149.1 MB/s\u001b[0m eta \u001b[36m0:00:01\u001b[0m"
     ]
    },
    {
     "name": "stdout",
     "output_type": "stream",
     "text": [
      "\r",
      "\u001b[2K     \u001b[91m━━━━━━━━━━━━━━━━━━━━━━━━━━━━━━━━━━━━━━\u001b[0m\u001b[91m╸\u001b[0m \u001b[32m10.4/10.4 MB\u001b[0m \u001b[31m149.1 MB/s\u001b[0m eta \u001b[36m0:00:01\u001b[0m\r",
      "\u001b[2K     \u001b[90m━━━━━━━━━━━━━━━━━━━━━━━━━━━━━━━━━━━━━━━━\u001b[0m \u001b[32m10.4/10.4 MB\u001b[0m \u001b[31m79.5 MB/s\u001b[0m eta \u001b[36m0:00:00\u001b[0m\r\n",
      "\u001b[?25h"
     ]
    },
    {
     "name": "stdout",
     "output_type": "stream",
     "text": [
      "Requirement already satisfied: orjson<4.0.0,>=3.8.0 in /opt/conda/lib/python3.10/site-packages (from plotly-resampler>=0.8.3.1->pycaret) (3.9.1)\r\n"
     ]
    },
    {
     "name": "stdout",
     "output_type": "stream",
     "text": [
      "Collecting trace-updater>=0.0.8 (from plotly-resampler>=0.8.3.1->pycaret)\r\n"
     ]
    },
    {
     "name": "stdout",
     "output_type": "stream",
     "text": [
      "  Downloading trace_updater-0.0.9.1-py3-none-any.whl (185 kB)\r\n",
      "\u001b[?25l     \u001b[90m━━━━━━━━━━━━━━━━━━━━━━━━━━━━━━━━━━━━━━━━\u001b[0m \u001b[32m0.0/185.2 kB\u001b[0m \u001b[31m?\u001b[0m eta \u001b[36m-:--:--\u001b[0m\r",
      "\u001b[2K     \u001b[90m━━━━━━━━━━━━━━━━━━━━━━━━━━━━━━━━━━━━━━\u001b[0m \u001b[32m185.2/185.2 kB\u001b[0m \u001b[31m16.3 MB/s\u001b[0m eta \u001b[36m0:00:00\u001b[0m\r\n",
      "\u001b[?25h"
     ]
    },
    {
     "name": "stdout",
     "output_type": "stream",
     "text": [
      "Collecting tsdownsample==0.1.2 (from plotly-resampler>=0.8.3.1->pycaret)\r\n",
      "  Downloading tsdownsample-0.1.2-cp310-cp310-manylinux_2_17_x86_64.manylinux2014_x86_64.whl (2.3 MB)\r\n",
      "\u001b[?25l     \u001b[90m━━━━━━━━━━━━━━━━━━━━━━━━━━━━━━━━━━━━━━━━\u001b[0m \u001b[32m0.0/2.3 MB\u001b[0m \u001b[31m?\u001b[0m eta \u001b[36m-:--:--\u001b[0m"
     ]
    },
    {
     "name": "stdout",
     "output_type": "stream",
     "text": [
      "\r",
      "\u001b[2K     \u001b[90m━━━━━━━━━━━━━━━━━━━━━━━━━━━━━━━━━━━━━━━━\u001b[0m \u001b[32m2.3/2.3 MB\u001b[0m \u001b[31m72.0 MB/s\u001b[0m eta \u001b[36m0:00:00\u001b[0m\r\n",
      "\u001b[?25h"
     ]
    },
    {
     "name": "stdout",
     "output_type": "stream",
     "text": [
      "Requirement already satisfied: Cython!=0.29.18,!=0.29.31,>=0.29 in /opt/conda/lib/python3.10/site-packages (from pmdarima!=1.8.1,<3.0.0,>=1.8.0->pycaret) (0.29.35)\r\n",
      "Requirement already satisfied: urllib3 in /opt/conda/lib/python3.10/site-packages (from pmdarima!=1.8.1,<3.0.0,>=1.8.0->pycaret) (1.26.15)\r\n",
      "Requirement already satisfied: setuptools!=50.0.0,>=38.6.0 in /opt/conda/lib/python3.10/site-packages (from pmdarima!=1.8.1,<3.0.0,>=1.8.0->pycaret) (59.8.0)\r\n"
     ]
    },
    {
     "name": "stdout",
     "output_type": "stream",
     "text": [
      "Requirement already satisfied: six in /opt/conda/lib/python3.10/site-packages (from pyod>=1.0.8->pycaret) (1.16.0)\r\n",
      "Requirement already satisfied: charset-normalizer<4,>=2 in /opt/conda/lib/python3.10/site-packages (from requests>=2.27.1->pycaret) (3.1.0)\r\n",
      "Requirement already satisfied: idna<4,>=2.5 in /opt/conda/lib/python3.10/site-packages (from requests>=2.27.1->pycaret) (3.4)\r\n",
      "Requirement already satisfied: certifi>=2017.4.17 in /opt/conda/lib/python3.10/site-packages (from requests>=2.27.1->pycaret) (2023.5.7)\r\n"
     ]
    },
    {
     "name": "stdout",
     "output_type": "stream",
     "text": [
      "Requirement already satisfied: deprecated>=1.2.13 in /opt/conda/lib/python3.10/site-packages (from sktime!=0.17.1,!=0.17.2,!=0.18.0,>=0.16.1->pycaret) (1.2.14)\r\n"
     ]
    },
    {
     "name": "stdout",
     "output_type": "stream",
     "text": [
      "Collecting scikit-base<0.6.0 (from sktime!=0.17.1,!=0.17.2,!=0.18.0,>=0.16.1->pycaret)\r\n",
      "  Downloading scikit_base-0.5.0-py3-none-any.whl (118 kB)\r\n",
      "\u001b[?25l     \u001b[90m━━━━━━━━━━━━━━━━━━━━━━━━━━━━━━━━━━━━━━━━\u001b[0m \u001b[32m0.0/118.2 kB\u001b[0m \u001b[31m?\u001b[0m eta \u001b[36m-:--:--\u001b[0m\r",
      "\u001b[2K     \u001b[90m━━━━━━━━━━━━━━━━━━━━━━━━━━━━━━━━━━━━━━━\u001b[0m \u001b[32m118.2/118.2 kB\u001b[0m \u001b[31m9.7 MB/s\u001b[0m eta \u001b[36m0:00:00\u001b[0m\r\n",
      "\u001b[?25h"
     ]
    },
    {
     "name": "stdout",
     "output_type": "stream",
     "text": [
      "Collecting Flask<2.3.0,>=1.0.4 (from dash<3.0.0,>=2.11.0->plotly-resampler>=0.8.3.1->pycaret)\r\n"
     ]
    },
    {
     "name": "stdout",
     "output_type": "stream",
     "text": [
      "  Downloading Flask-2.2.5-py3-none-any.whl (101 kB)\r\n",
      "\u001b[?25l     \u001b[90m━━━━━━━━━━━━━━━━━━━━━━━━━━━━━━━━━━━━━━━━\u001b[0m \u001b[32m0.0/101.8 kB\u001b[0m \u001b[31m?\u001b[0m eta \u001b[36m-:--:--\u001b[0m\r",
      "\u001b[2K     \u001b[90m━━━━━━━━━━━━━━━━━━━━━━━━━━━━━━━━━━━━━━━\u001b[0m \u001b[32m101.8/101.8 kB\u001b[0m \u001b[31m9.2 MB/s\u001b[0m eta \u001b[36m0:00:00\u001b[0m\r\n",
      "\u001b[?25h"
     ]
    },
    {
     "name": "stdout",
     "output_type": "stream",
     "text": [
      "Collecting Werkzeug<2.3.0 (from dash<3.0.0,>=2.11.0->plotly-resampler>=0.8.3.1->pycaret)\r\n",
      "  Downloading Werkzeug-2.2.3-py3-none-any.whl (233 kB)\r\n",
      "\u001b[?25l     \u001b[90m━━━━━━━━━━━━━━━━━━━━━━━━━━━━━━━━━━━━━━━━\u001b[0m \u001b[32m0.0/233.6 kB\u001b[0m \u001b[31m?\u001b[0m eta \u001b[36m-:--:--\u001b[0m\r",
      "\u001b[2K     \u001b[90m━━━━━━━━━━━━━━━━━━━━━━━━━━━━━━━━━━━━━━\u001b[0m \u001b[32m233.6/233.6 kB\u001b[0m \u001b[31m20.4 MB/s\u001b[0m eta \u001b[36m0:00:00\u001b[0m\r\n",
      "\u001b[?25h"
     ]
    },
    {
     "name": "stdout",
     "output_type": "stream",
     "text": [
      "Collecting dash-html-components==2.0.0 (from dash<3.0.0,>=2.11.0->plotly-resampler>=0.8.3.1->pycaret)\r\n",
      "  Downloading dash_html_components-2.0.0-py3-none-any.whl (4.1 kB)\r\n"
     ]
    },
    {
     "name": "stdout",
     "output_type": "stream",
     "text": [
      "Collecting dash-core-components==2.0.0 (from dash<3.0.0,>=2.11.0->plotly-resampler>=0.8.3.1->pycaret)\r\n",
      "  Downloading dash_core_components-2.0.0-py3-none-any.whl (3.8 kB)\r\n"
     ]
    },
    {
     "name": "stdout",
     "output_type": "stream",
     "text": [
      "Collecting dash-table==5.0.0 (from dash<3.0.0,>=2.11.0->plotly-resampler>=0.8.3.1->pycaret)\r\n",
      "  Downloading dash_table-5.0.0-py3-none-any.whl (3.9 kB)\r\n"
     ]
    },
    {
     "name": "stdout",
     "output_type": "stream",
     "text": [
      "Requirement already satisfied: typing-extensions>=4.1.1 in /opt/conda/lib/python3.10/site-packages (from dash<3.0.0,>=2.11.0->plotly-resampler>=0.8.3.1->pycaret) (4.6.3)\r\n",
      "Requirement already satisfied: retrying in /opt/conda/lib/python3.10/site-packages (from dash<3.0.0,>=2.11.0->plotly-resampler>=0.8.3.1->pycaret) (1.3.3)\r\n"
     ]
    },
    {
     "name": "stdout",
     "output_type": "stream",
     "text": [
      "Collecting ansi2html (from dash<3.0.0,>=2.11.0->plotly-resampler>=0.8.3.1->pycaret)\r\n",
      "  Downloading ansi2html-1.8.0-py3-none-any.whl (16 kB)\r\n",
      "Requirement already satisfied: nest-asyncio in /opt/conda/lib/python3.10/site-packages (from dash<3.0.0,>=2.11.0->plotly-resampler>=0.8.3.1->pycaret) (1.5.6)\r\n"
     ]
    },
    {
     "name": "stdout",
     "output_type": "stream",
     "text": [
      "Requirement already satisfied: wrapt<2,>=1.10 in /opt/conda/lib/python3.10/site-packages (from deprecated>=1.2.13->sktime!=0.17.1,!=0.17.2,!=0.18.0,>=0.16.1->pycaret) (1.14.1)\r\n"
     ]
    },
    {
     "name": "stdout",
     "output_type": "stream",
     "text": [
      "Requirement already satisfied: comm>=0.1.1 in /opt/conda/lib/python3.10/site-packages (from ipykernel>=4.5.1->ipywidgets>=7.6.5->pycaret) (0.1.3)\r\n",
      "Requirement already satisfied: debugpy>=1.6.5 in /opt/conda/lib/python3.10/site-packages (from ipykernel>=4.5.1->ipywidgets>=7.6.5->pycaret) (1.6.7)\r\n",
      "Requirement already satisfied: jupyter-client>=6.1.12 in /opt/conda/lib/python3.10/site-packages (from ipykernel>=4.5.1->ipywidgets>=7.6.5->pycaret) (7.4.9)\r\n",
      "Requirement already satisfied: pyzmq>=20 in /opt/conda/lib/python3.10/site-packages (from ipykernel>=4.5.1->ipywidgets>=7.6.5->pycaret) (25.1.0)\r\n",
      "Requirement already satisfied: tornado>=6.1 in /opt/conda/lib/python3.10/site-packages (from ipykernel>=4.5.1->ipywidgets>=7.6.5->pycaret) (6.3.2)\r\n"
     ]
    },
    {
     "name": "stdout",
     "output_type": "stream",
     "text": [
      "Requirement already satisfied: parso<0.9.0,>=0.8.0 in /opt/conda/lib/python3.10/site-packages (from jedi>=0.16->ipython>=5.5.0->pycaret) (0.8.3)\r\n"
     ]
    },
    {
     "name": "stdout",
     "output_type": "stream",
     "text": [
      "Requirement already satisfied: attrs>=17.4.0 in /opt/conda/lib/python3.10/site-packages (from jsonschema>=2.6->nbformat>=4.2.0->pycaret) (23.1.0)\r\n",
      "Requirement already satisfied: pyrsistent!=0.17.0,!=0.17.1,!=0.17.2,>=0.14.0 in /opt/conda/lib/python3.10/site-packages (from jsonschema>=2.6->nbformat>=4.2.0->pycaret) (0.19.3)\r\n"
     ]
    },
    {
     "name": "stdout",
     "output_type": "stream",
     "text": [
      "Requirement already satisfied: platformdirs>=2.5 in /opt/conda/lib/python3.10/site-packages (from jupyter-core->nbformat>=4.2.0->pycaret) (3.8.1)\r\n"
     ]
    },
    {
     "name": "stdout",
     "output_type": "stream",
     "text": [
      "Requirement already satisfied: ptyprocess>=0.5 in /opt/conda/lib/python3.10/site-packages (from pexpect>4.3->ipython>=5.5.0->pycaret) (0.7.0)\r\n"
     ]
    },
    {
     "name": "stdout",
     "output_type": "stream",
     "text": [
      "Requirement already satisfied: wcwidth in /opt/conda/lib/python3.10/site-packages (from prompt-toolkit!=3.0.37,<3.1.0,>=3.0.30->ipython>=5.5.0->pycaret) (0.2.6)\r\n"
     ]
    },
    {
     "name": "stdout",
     "output_type": "stream",
     "text": [
      "Requirement already satisfied: notebook>=4.4.1 in /opt/conda/lib/python3.10/site-packages (from widgetsnbextension~=3.6.0->ipywidgets>=7.6.5->pycaret) (6.5.4)\r\n"
     ]
    },
    {
     "name": "stdout",
     "output_type": "stream",
     "text": [
      "Requirement already satisfied: executing>=1.2.0 in /opt/conda/lib/python3.10/site-packages (from stack-data->ipython>=5.5.0->pycaret) (1.2.0)\r\n",
      "Requirement already satisfied: asttokens>=2.1.0 in /opt/conda/lib/python3.10/site-packages (from stack-data->ipython>=5.5.0->pycaret) (2.2.1)\r\n",
      "Requirement already satisfied: pure-eval in /opt/conda/lib/python3.10/site-packages (from stack-data->ipython>=5.5.0->pycaret) (0.2.2)\r\n"
     ]
    },
    {
     "name": "stdout",
     "output_type": "stream",
     "text": [
      "Requirement already satisfied: itsdangerous>=2.0 in /opt/conda/lib/python3.10/site-packages (from Flask<2.3.0,>=1.0.4->dash<3.0.0,>=2.11.0->plotly-resampler>=0.8.3.1->pycaret) (2.1.2)\r\n",
      "Requirement already satisfied: click>=8.0 in /opt/conda/lib/python3.10/site-packages (from Flask<2.3.0,>=1.0.4->dash<3.0.0,>=2.11.0->plotly-resampler>=0.8.3.1->pycaret) (8.1.3)\r\n"
     ]
    },
    {
     "name": "stdout",
     "output_type": "stream",
     "text": [
      "Requirement already satisfied: entrypoints in /opt/conda/lib/python3.10/site-packages (from jupyter-client>=6.1.12->ipykernel>=4.5.1->ipywidgets>=7.6.5->pycaret) (0.4)\r\n"
     ]
    },
    {
     "name": "stdout",
     "output_type": "stream",
     "text": [
      "Requirement already satisfied: argon2-cffi in /opt/conda/lib/python3.10/site-packages (from notebook>=4.4.1->widgetsnbextension~=3.6.0->ipywidgets>=7.6.5->pycaret) (21.3.0)\r\n",
      "Requirement already satisfied: nbconvert>=5 in /opt/conda/lib/python3.10/site-packages (from notebook>=4.4.1->widgetsnbextension~=3.6.0->ipywidgets>=7.6.5->pycaret) (6.4.5)\r\n",
      "Requirement already satisfied: Send2Trash>=1.8.0 in /opt/conda/lib/python3.10/site-packages (from notebook>=4.4.1->widgetsnbextension~=3.6.0->ipywidgets>=7.6.5->pycaret) (1.8.2)\r\n",
      "Requirement already satisfied: terminado>=0.8.3 in /opt/conda/lib/python3.10/site-packages (from notebook>=4.4.1->widgetsnbextension~=3.6.0->ipywidgets>=7.6.5->pycaret) (0.17.1)\r\n",
      "Requirement already satisfied: prometheus-client in /opt/conda/lib/python3.10/site-packages (from notebook>=4.4.1->widgetsnbextension~=3.6.0->ipywidgets>=7.6.5->pycaret) (0.17.0)\r\n",
      "Requirement already satisfied: nbclassic>=0.4.7 in /opt/conda/lib/python3.10/site-packages (from notebook>=4.4.1->widgetsnbextension~=3.6.0->ipywidgets>=7.6.5->pycaret) (1.0.0)\r\n"
     ]
    },
    {
     "name": "stdout",
     "output_type": "stream",
     "text": [
      "Requirement already satisfied: jupyter-server>=1.8 in /opt/conda/lib/python3.10/site-packages (from nbclassic>=0.4.7->notebook>=4.4.1->widgetsnbextension~=3.6.0->ipywidgets>=7.6.5->pycaret) (2.6.0)\r\n",
      "Requirement already satisfied: notebook-shim>=0.2.3 in /opt/conda/lib/python3.10/site-packages (from nbclassic>=0.4.7->notebook>=4.4.1->widgetsnbextension~=3.6.0->ipywidgets>=7.6.5->pycaret) (0.2.3)\r\n"
     ]
    },
    {
     "name": "stdout",
     "output_type": "stream",
     "text": [
      "Requirement already satisfied: mistune<2,>=0.8.1 in /opt/conda/lib/python3.10/site-packages (from nbconvert>=5->notebook>=4.4.1->widgetsnbextension~=3.6.0->ipywidgets>=7.6.5->pycaret) (0.8.4)\r\n",
      "Requirement already satisfied: jupyterlab-pygments in /opt/conda/lib/python3.10/site-packages (from nbconvert>=5->notebook>=4.4.1->widgetsnbextension~=3.6.0->ipywidgets>=7.6.5->pycaret) (0.2.2)\r\n",
      "Requirement already satisfied: bleach in /opt/conda/lib/python3.10/site-packages (from nbconvert>=5->notebook>=4.4.1->widgetsnbextension~=3.6.0->ipywidgets>=7.6.5->pycaret) (6.0.0)\r\n",
      "Requirement already satisfied: pandocfilters>=1.4.1 in /opt/conda/lib/python3.10/site-packages (from nbconvert>=5->notebook>=4.4.1->widgetsnbextension~=3.6.0->ipywidgets>=7.6.5->pycaret) (1.5.0)\r\n",
      "Requirement already satisfied: testpath in /opt/conda/lib/python3.10/site-packages (from nbconvert>=5->notebook>=4.4.1->widgetsnbextension~=3.6.0->ipywidgets>=7.6.5->pycaret) (0.6.0)\r\n",
      "Requirement already satisfied: defusedxml in /opt/conda/lib/python3.10/site-packages (from nbconvert>=5->notebook>=4.4.1->widgetsnbextension~=3.6.0->ipywidgets>=7.6.5->pycaret) (0.7.1)\r\n",
      "Requirement already satisfied: beautifulsoup4 in /opt/conda/lib/python3.10/site-packages (from nbconvert>=5->notebook>=4.4.1->widgetsnbextension~=3.6.0->ipywidgets>=7.6.5->pycaret) (4.12.2)\r\n",
      "Requirement already satisfied: nbclient<0.6.0,>=0.5.0 in /opt/conda/lib/python3.10/site-packages (from nbconvert>=5->notebook>=4.4.1->widgetsnbextension~=3.6.0->ipywidgets>=7.6.5->pycaret) (0.5.13)\r\n"
     ]
    },
    {
     "name": "stdout",
     "output_type": "stream",
     "text": [
      "Requirement already satisfied: argon2-cffi-bindings in /opt/conda/lib/python3.10/site-packages (from argon2-cffi->notebook>=4.4.1->widgetsnbextension~=3.6.0->ipywidgets>=7.6.5->pycaret) (21.2.0)\r\n"
     ]
    },
    {
     "name": "stdout",
     "output_type": "stream",
     "text": [
      "Requirement already satisfied: anyio>=3.1.0 in /opt/conda/lib/python3.10/site-packages (from jupyter-server>=1.8->nbclassic>=0.4.7->notebook>=4.4.1->widgetsnbextension~=3.6.0->ipywidgets>=7.6.5->pycaret) (3.7.0)\r\n",
      "Requirement already satisfied: jupyter-events>=0.6.0 in /opt/conda/lib/python3.10/site-packages (from jupyter-server>=1.8->nbclassic>=0.4.7->notebook>=4.4.1->widgetsnbextension~=3.6.0->ipywidgets>=7.6.5->pycaret) (0.6.3)\r\n",
      "Requirement already satisfied: jupyter-server-terminals in /opt/conda/lib/python3.10/site-packages (from jupyter-server>=1.8->nbclassic>=0.4.7->notebook>=4.4.1->widgetsnbextension~=3.6.0->ipywidgets>=7.6.5->pycaret) (0.4.4)\r\n",
      "Requirement already satisfied: overrides in /opt/conda/lib/python3.10/site-packages (from jupyter-server>=1.8->nbclassic>=0.4.7->notebook>=4.4.1->widgetsnbextension~=3.6.0->ipywidgets>=7.6.5->pycaret) (6.5.0)\r\n"
     ]
    },
    {
     "name": "stdout",
     "output_type": "stream",
     "text": [
      "Requirement already satisfied: websocket-client in /opt/conda/lib/python3.10/site-packages (from jupyter-server>=1.8->nbclassic>=0.4.7->notebook>=4.4.1->widgetsnbextension~=3.6.0->ipywidgets>=7.6.5->pycaret) (1.6.0)\r\n"
     ]
    },
    {
     "name": "stdout",
     "output_type": "stream",
     "text": [
      "Requirement already satisfied: cffi>=1.0.1 in /opt/conda/lib/python3.10/site-packages (from argon2-cffi-bindings->argon2-cffi->notebook>=4.4.1->widgetsnbextension~=3.6.0->ipywidgets>=7.6.5->pycaret) (1.15.1)\r\n",
      "Requirement already satisfied: soupsieve>1.2 in /opt/conda/lib/python3.10/site-packages (from beautifulsoup4->nbconvert>=5->notebook>=4.4.1->widgetsnbextension~=3.6.0->ipywidgets>=7.6.5->pycaret) (2.3.2.post1)\r\n"
     ]
    },
    {
     "name": "stdout",
     "output_type": "stream",
     "text": [
      "Requirement already satisfied: webencodings in /opt/conda/lib/python3.10/site-packages (from bleach->nbconvert>=5->notebook>=4.4.1->widgetsnbextension~=3.6.0->ipywidgets>=7.6.5->pycaret) (0.5.1)\r\n"
     ]
    },
    {
     "name": "stdout",
     "output_type": "stream",
     "text": [
      "Requirement already satisfied: sniffio>=1.1 in /opt/conda/lib/python3.10/site-packages (from anyio>=3.1.0->jupyter-server>=1.8->nbclassic>=0.4.7->notebook>=4.4.1->widgetsnbextension~=3.6.0->ipywidgets>=7.6.5->pycaret) (1.3.0)\r\n",
      "Requirement already satisfied: exceptiongroup in /opt/conda/lib/python3.10/site-packages (from anyio>=3.1.0->jupyter-server>=1.8->nbclassic>=0.4.7->notebook>=4.4.1->widgetsnbextension~=3.6.0->ipywidgets>=7.6.5->pycaret) (1.1.1)\r\n"
     ]
    },
    {
     "name": "stdout",
     "output_type": "stream",
     "text": [
      "Requirement already satisfied: pycparser in /opt/conda/lib/python3.10/site-packages (from cffi>=1.0.1->argon2-cffi-bindings->argon2-cffi->notebook>=4.4.1->widgetsnbextension~=3.6.0->ipywidgets>=7.6.5->pycaret) (2.21)\r\n"
     ]
    },
    {
     "name": "stdout",
     "output_type": "stream",
     "text": [
      "Requirement already satisfied: python-json-logger>=2.0.4 in /opt/conda/lib/python3.10/site-packages (from jupyter-events>=0.6.0->jupyter-server>=1.8->nbclassic>=0.4.7->notebook>=4.4.1->widgetsnbextension~=3.6.0->ipywidgets>=7.6.5->pycaret) (2.0.7)\r\n",
      "Requirement already satisfied: pyyaml>=5.3 in /opt/conda/lib/python3.10/site-packages (from jupyter-events>=0.6.0->jupyter-server>=1.8->nbclassic>=0.4.7->notebook>=4.4.1->widgetsnbextension~=3.6.0->ipywidgets>=7.6.5->pycaret) (6.0)\r\n",
      "Requirement already satisfied: rfc3339-validator in /opt/conda/lib/python3.10/site-packages (from jupyter-events>=0.6.0->jupyter-server>=1.8->nbclassic>=0.4.7->notebook>=4.4.1->widgetsnbextension~=3.6.0->ipywidgets>=7.6.5->pycaret) (0.1.4)\r\n",
      "Requirement already satisfied: rfc3986-validator>=0.1.1 in /opt/conda/lib/python3.10/site-packages (from jupyter-events>=0.6.0->jupyter-server>=1.8->nbclassic>=0.4.7->notebook>=4.4.1->widgetsnbextension~=3.6.0->ipywidgets>=7.6.5->pycaret) (0.1.1)\r\n"
     ]
    },
    {
     "name": "stdout",
     "output_type": "stream",
     "text": [
      "Requirement already satisfied: fqdn in /opt/conda/lib/python3.10/site-packages (from jsonschema>=2.6->nbformat>=4.2.0->pycaret) (1.5.1)\r\n",
      "Requirement already satisfied: isoduration in /opt/conda/lib/python3.10/site-packages (from jsonschema>=2.6->nbformat>=4.2.0->pycaret) (20.11.0)\r\n",
      "Requirement already satisfied: jsonpointer>1.13 in /opt/conda/lib/python3.10/site-packages (from jsonschema>=2.6->nbformat>=4.2.0->pycaret) (2.0)\r\n",
      "Requirement already satisfied: uri-template in /opt/conda/lib/python3.10/site-packages (from jsonschema>=2.6->nbformat>=4.2.0->pycaret) (1.3.0)\r\n",
      "Requirement already satisfied: webcolors>=1.11 in /opt/conda/lib/python3.10/site-packages (from jsonschema>=2.6->nbformat>=4.2.0->pycaret) (1.13)\r\n"
     ]
    },
    {
     "name": "stdout",
     "output_type": "stream",
     "text": [
      "Requirement already satisfied: arrow>=0.15.0 in /opt/conda/lib/python3.10/site-packages (from isoduration->jsonschema>=2.6->nbformat>=4.2.0->pycaret) (1.2.3)\r\n"
     ]
    },
    {
     "name": "stdout",
     "output_type": "stream",
     "text": [
      "Building wheels for collected packages: pyod\r\n"
     ]
    },
    {
     "name": "stdout",
     "output_type": "stream",
     "text": [
      "  Building wheel for pyod (setup.py) ... \u001b[?25l-"
     ]
    },
    {
     "name": "stdout",
     "output_type": "stream",
     "text": [
      "\b \b\\"
     ]
    },
    {
     "name": "stdout",
     "output_type": "stream",
     "text": [
      "\b \b|"
     ]
    },
    {
     "name": "stdout",
     "output_type": "stream",
     "text": [
      "\b \b/"
     ]
    },
    {
     "name": "stdout",
     "output_type": "stream",
     "text": [
      "\b \bdone\r\n",
      "\u001b[?25h  Created wheel for pyod: filename=pyod-1.1.0-py3-none-any.whl size=185348 sha256=c45709593d7af3fcb67fceca2874c6bc490e71c0febea6d2d096aff6ff5d8807\r\n",
      "  Stored in directory: /root/.cache/pip/wheels/36/8e/e2/e932956b10b843eb6be9eefa70b5c1bee7b561be14c423b136\r\n",
      "Successfully built pyod\r\n"
     ]
    },
    {
     "name": "stdout",
     "output_type": "stream",
     "text": [
      "Installing collected packages: trace-updater, kaleido, dash-table, dash-html-components, dash-core-components, Werkzeug, tsdownsample, scikit-base, schemdraw, ansi2html, Flask, sktime, pyod, dash, pmdarima, plotly-resampler, tbats, pycaret\r\n"
     ]
    },
    {
     "name": "stdout",
     "output_type": "stream",
     "text": [
      "  Attempting uninstall: Werkzeug\r\n",
      "    Found existing installation: Werkzeug 2.3.6\r\n"
     ]
    },
    {
     "name": "stdout",
     "output_type": "stream",
     "text": [
      "    Uninstalling Werkzeug-2.3.6:\r\n"
     ]
    },
    {
     "name": "stdout",
     "output_type": "stream",
     "text": [
      "      Successfully uninstalled Werkzeug-2.3.6\r\n"
     ]
    },
    {
     "name": "stdout",
     "output_type": "stream",
     "text": [
      "  Attempting uninstall: Flask\r\n",
      "    Found existing installation: Flask 2.3.2\r\n",
      "    Uninstalling Flask-2.3.2:\r\n"
     ]
    },
    {
     "name": "stdout",
     "output_type": "stream",
     "text": [
      "      Successfully uninstalled Flask-2.3.2\r\n"
     ]
    },
    {
     "name": "stdout",
     "output_type": "stream",
     "text": [
      "Successfully installed Flask-2.2.5 Werkzeug-2.2.3 ansi2html-1.8.0 dash-2.11.1 dash-core-components-2.0.0 dash-html-components-2.0.0 dash-table-5.0.0 kaleido-0.2.1 plotly-resampler-0.9.0 pmdarima-2.0.3 pycaret-3.0.4 pyod-1.1.0 schemdraw-0.15 scikit-base-0.5.0 sktime-0.20.0 tbats-1.1.3 trace-updater-0.0.9.1 tsdownsample-0.1.2\r\n"
     ]
    }
   ],
   "source": [
    "!pip install pycaret"
   ]
  },
  {
   "cell_type": "code",
   "execution_count": 2,
   "id": "e628268b",
   "metadata": {
    "execution": {
     "iopub.execute_input": "2023-07-12T18:44:30.992243Z",
     "iopub.status.busy": "2023-07-12T18:44:30.991847Z",
     "iopub.status.idle": "2023-07-12T18:44:30.996276Z",
     "shell.execute_reply": "2023-07-12T18:44:30.995525Z"
    },
    "papermill": {
     "duration": 0.02355,
     "end_time": "2023-07-12T18:44:30.998371",
     "exception": false,
     "start_time": "2023-07-12T18:44:30.974821",
     "status": "completed"
    },
    "tags": []
   },
   "outputs": [],
   "source": [
    "import numpy as np \n",
    "import pandas as pd "
   ]
  },
  {
   "cell_type": "code",
   "execution_count": 3,
   "id": "5d35370e",
   "metadata": {
    "execution": {
     "iopub.execute_input": "2023-07-12T18:44:31.032131Z",
     "iopub.status.busy": "2023-07-12T18:44:31.031707Z",
     "iopub.status.idle": "2023-07-12T18:44:31.255222Z",
     "shell.execute_reply": "2023-07-12T18:44:31.254244Z"
    },
    "papermill": {
     "duration": 0.242607,
     "end_time": "2023-07-12T18:44:31.257789",
     "exception": false,
     "start_time": "2023-07-12T18:44:31.015182",
     "status": "completed"
    },
    "tags": []
   },
   "outputs": [
    {
     "data": {
      "text/html": [
       "<div>\n",
       "<style scoped>\n",
       "    .dataframe tbody tr th:only-of-type {\n",
       "        vertical-align: middle;\n",
       "    }\n",
       "\n",
       "    .dataframe tbody tr th {\n",
       "        vertical-align: top;\n",
       "    }\n",
       "\n",
       "    .dataframe thead th {\n",
       "        text-align: right;\n",
       "    }\n",
       "</style>\n",
       "<table border=\"1\" class=\"dataframe\">\n",
       "  <thead>\n",
       "    <tr style=\"text-align: right;\">\n",
       "      <th></th>\n",
       "      <th>Id</th>\n",
       "      <th>0</th>\n",
       "      <th>1</th>\n",
       "      <th>2</th>\n",
       "      <th>3</th>\n",
       "      <th>4</th>\n",
       "      <th>5</th>\n",
       "      <th>6</th>\n",
       "      <th>7</th>\n",
       "      <th>8</th>\n",
       "      <th>...</th>\n",
       "      <th>41</th>\n",
       "      <th>42</th>\n",
       "      <th>43</th>\n",
       "      <th>44</th>\n",
       "      <th>45</th>\n",
       "      <th>46</th>\n",
       "      <th>47</th>\n",
       "      <th>48</th>\n",
       "      <th>49</th>\n",
       "      <th>value</th>\n",
       "    </tr>\n",
       "  </thead>\n",
       "  <tbody>\n",
       "    <tr>\n",
       "      <th>0</th>\n",
       "      <td>0</td>\n",
       "      <td>0.205930</td>\n",
       "      <td>0.652388</td>\n",
       "      <td>0.255758</td>\n",
       "      <td>0.046475</td>\n",
       "      <td>0.897025</td>\n",
       "      <td>0.727579</td>\n",
       "      <td>0.284180</td>\n",
       "      <td>0.125263</td>\n",
       "      <td>0.589074</td>\n",
       "      <td>...</td>\n",
       "      <td>0.224698</td>\n",
       "      <td>0.969174</td>\n",
       "      <td>0.280593</td>\n",
       "      <td>0.618193</td>\n",
       "      <td>0.217338</td>\n",
       "      <td>0.006883</td>\n",
       "      <td>0.632865</td>\n",
       "      <td>0.067311</td>\n",
       "      <td>0.741465</td>\n",
       "      <td>15.383580</td>\n",
       "    </tr>\n",
       "    <tr>\n",
       "      <th>1</th>\n",
       "      <td>1</td>\n",
       "      <td>0.558705</td>\n",
       "      <td>0.758161</td>\n",
       "      <td>0.652859</td>\n",
       "      <td>0.926265</td>\n",
       "      <td>0.643922</td>\n",
       "      <td>0.113127</td>\n",
       "      <td>0.038248</td>\n",
       "      <td>0.660068</td>\n",
       "      <td>0.688393</td>\n",
       "      <td>...</td>\n",
       "      <td>0.650349</td>\n",
       "      <td>0.399282</td>\n",
       "      <td>0.966604</td>\n",
       "      <td>0.774212</td>\n",
       "      <td>0.779575</td>\n",
       "      <td>0.085467</td>\n",
       "      <td>0.264312</td>\n",
       "      <td>0.305771</td>\n",
       "      <td>0.935842</td>\n",
       "      <td>22.426572</td>\n",
       "    </tr>\n",
       "    <tr>\n",
       "      <th>2</th>\n",
       "      <td>2</td>\n",
       "      <td>0.439016</td>\n",
       "      <td>0.540490</td>\n",
       "      <td>0.513547</td>\n",
       "      <td>0.112476</td>\n",
       "      <td>0.263009</td>\n",
       "      <td>0.495977</td>\n",
       "      <td>0.119652</td>\n",
       "      <td>0.911965</td>\n",
       "      <td>0.004279</td>\n",
       "      <td>...</td>\n",
       "      <td>0.958626</td>\n",
       "      <td>0.290434</td>\n",
       "      <td>0.729213</td>\n",
       "      <td>0.027318</td>\n",
       "      <td>0.154054</td>\n",
       "      <td>0.442677</td>\n",
       "      <td>0.155767</td>\n",
       "      <td>0.883883</td>\n",
       "      <td>0.745883</td>\n",
       "      <td>10.641960</td>\n",
       "    </tr>\n",
       "    <tr>\n",
       "      <th>3</th>\n",
       "      <td>3</td>\n",
       "      <td>0.134630</td>\n",
       "      <td>0.383163</td>\n",
       "      <td>0.752549</td>\n",
       "      <td>0.797948</td>\n",
       "      <td>NaN</td>\n",
       "      <td>0.225226</td>\n",
       "      <td>NaN</td>\n",
       "      <td>0.297200</td>\n",
       "      <td>0.738939</td>\n",
       "      <td>...</td>\n",
       "      <td>0.186822</td>\n",
       "      <td>0.989653</td>\n",
       "      <td>0.281193</td>\n",
       "      <td>0.258859</td>\n",
       "      <td>0.441496</td>\n",
       "      <td>0.565783</td>\n",
       "      <td>0.362619</td>\n",
       "      <td>0.762882</td>\n",
       "      <td>0.684027</td>\n",
       "      <td>13.039717</td>\n",
       "    </tr>\n",
       "    <tr>\n",
       "      <th>4</th>\n",
       "      <td>4</td>\n",
       "      <td>0.438050</td>\n",
       "      <td>0.489011</td>\n",
       "      <td>0.782408</td>\n",
       "      <td>0.031854</td>\n",
       "      <td>0.537418</td>\n",
       "      <td>0.987593</td>\n",
       "      <td>0.513891</td>\n",
       "      <td>0.827084</td>\n",
       "      <td>0.307579</td>\n",
       "      <td>...</td>\n",
       "      <td>0.304691</td>\n",
       "      <td>0.751521</td>\n",
       "      <td>0.664380</td>\n",
       "      <td>0.594378</td>\n",
       "      <td>0.339033</td>\n",
       "      <td>0.749873</td>\n",
       "      <td>0.445847</td>\n",
       "      <td>0.753067</td>\n",
       "      <td>0.742491</td>\n",
       "      <td>8.905663</td>\n",
       "    </tr>\n",
       "  </tbody>\n",
       "</table>\n",
       "<p>5 rows × 52 columns</p>\n",
       "</div>"
      ],
      "text/plain": [
       "   Id         0         1         2         3         4         5         6  \\\n",
       "0   0  0.205930  0.652388  0.255758  0.046475  0.897025  0.727579  0.284180   \n",
       "1   1  0.558705  0.758161  0.652859  0.926265  0.643922  0.113127  0.038248   \n",
       "2   2  0.439016  0.540490  0.513547  0.112476  0.263009  0.495977  0.119652   \n",
       "3   3  0.134630  0.383163  0.752549  0.797948       NaN  0.225226       NaN   \n",
       "4   4  0.438050  0.489011  0.782408  0.031854  0.537418  0.987593  0.513891   \n",
       "\n",
       "          7         8  ...        41        42        43        44        45  \\\n",
       "0  0.125263  0.589074  ...  0.224698  0.969174  0.280593  0.618193  0.217338   \n",
       "1  0.660068  0.688393  ...  0.650349  0.399282  0.966604  0.774212  0.779575   \n",
       "2  0.911965  0.004279  ...  0.958626  0.290434  0.729213  0.027318  0.154054   \n",
       "3  0.297200  0.738939  ...  0.186822  0.989653  0.281193  0.258859  0.441496   \n",
       "4  0.827084  0.307579  ...  0.304691  0.751521  0.664380  0.594378  0.339033   \n",
       "\n",
       "         46        47        48        49      value  \n",
       "0  0.006883  0.632865  0.067311  0.741465  15.383580  \n",
       "1  0.085467  0.264312  0.305771  0.935842  22.426572  \n",
       "2  0.442677  0.155767  0.883883  0.745883  10.641960  \n",
       "3  0.565783  0.362619  0.762882  0.684027  13.039717  \n",
       "4  0.749873  0.445847  0.753067  0.742491   8.905663  \n",
       "\n",
       "[5 rows x 52 columns]"
      ]
     },
     "execution_count": 3,
     "metadata": {},
     "output_type": "execute_result"
    }
   ],
   "source": [
    "tda = pd.read_csv('/kaggle/input/thapar-summer-school-2023/train.csv')\n",
    "tda.head()"
   ]
  },
  {
   "cell_type": "code",
   "execution_count": 4,
   "id": "1e0ed6fa",
   "metadata": {
    "execution": {
     "iopub.execute_input": "2023-07-12T18:44:31.293806Z",
     "iopub.status.busy": "2023-07-12T18:44:31.293173Z",
     "iopub.status.idle": "2023-07-12T18:51:00.348619Z",
     "shell.execute_reply": "2023-07-12T18:51:00.347457Z"
    },
    "papermill": {
     "duration": 389.077268,
     "end_time": "2023-07-12T18:51:00.351060",
     "exception": false,
     "start_time": "2023-07-12T18:44:31.273792",
     "status": "completed"
    },
    "tags": []
   },
   "outputs": [
    {
     "data": {
      "text/html": [
       "<style type=\"text/css\">\n",
       "#T_8010c_row9_col1 {\n",
       "  background-color: lightgreen;\n",
       "}\n",
       "</style>\n",
       "<table id=\"T_8010c\">\n",
       "  <thead>\n",
       "    <tr>\n",
       "      <th class=\"blank level0\" >&nbsp;</th>\n",
       "      <th id=\"T_8010c_level0_col0\" class=\"col_heading level0 col0\" >Description</th>\n",
       "      <th id=\"T_8010c_level0_col1\" class=\"col_heading level0 col1\" >Value</th>\n",
       "    </tr>\n",
       "  </thead>\n",
       "  <tbody>\n",
       "    <tr>\n",
       "      <th id=\"T_8010c_level0_row0\" class=\"row_heading level0 row0\" >0</th>\n",
       "      <td id=\"T_8010c_row0_col0\" class=\"data row0 col0\" >Session id</td>\n",
       "      <td id=\"T_8010c_row0_col1\" class=\"data row0 col1\" >4129</td>\n",
       "    </tr>\n",
       "    <tr>\n",
       "      <th id=\"T_8010c_level0_row1\" class=\"row_heading level0 row1\" >1</th>\n",
       "      <td id=\"T_8010c_row1_col0\" class=\"data row1 col0\" >Target</td>\n",
       "      <td id=\"T_8010c_row1_col1\" class=\"data row1 col1\" >value</td>\n",
       "    </tr>\n",
       "    <tr>\n",
       "      <th id=\"T_8010c_level0_row2\" class=\"row_heading level0 row2\" >2</th>\n",
       "      <td id=\"T_8010c_row2_col0\" class=\"data row2 col0\" >Target type</td>\n",
       "      <td id=\"T_8010c_row2_col1\" class=\"data row2 col1\" >Regression</td>\n",
       "    </tr>\n",
       "    <tr>\n",
       "      <th id=\"T_8010c_level0_row3\" class=\"row_heading level0 row3\" >3</th>\n",
       "      <td id=\"T_8010c_row3_col0\" class=\"data row3 col0\" >Original data shape</td>\n",
       "      <td id=\"T_8010c_row3_col1\" class=\"data row3 col1\" >(10000, 52)</td>\n",
       "    </tr>\n",
       "    <tr>\n",
       "      <th id=\"T_8010c_level0_row4\" class=\"row_heading level0 row4\" >4</th>\n",
       "      <td id=\"T_8010c_row4_col0\" class=\"data row4 col0\" >Transformed data shape</td>\n",
       "      <td id=\"T_8010c_row4_col1\" class=\"data row4 col1\" >(10000, 52)</td>\n",
       "    </tr>\n",
       "    <tr>\n",
       "      <th id=\"T_8010c_level0_row5\" class=\"row_heading level0 row5\" >5</th>\n",
       "      <td id=\"T_8010c_row5_col0\" class=\"data row5 col0\" >Transformed train set shape</td>\n",
       "      <td id=\"T_8010c_row5_col1\" class=\"data row5 col1\" >(7000, 52)</td>\n",
       "    </tr>\n",
       "    <tr>\n",
       "      <th id=\"T_8010c_level0_row6\" class=\"row_heading level0 row6\" >6</th>\n",
       "      <td id=\"T_8010c_row6_col0\" class=\"data row6 col0\" >Transformed test set shape</td>\n",
       "      <td id=\"T_8010c_row6_col1\" class=\"data row6 col1\" >(3000, 52)</td>\n",
       "    </tr>\n",
       "    <tr>\n",
       "      <th id=\"T_8010c_level0_row7\" class=\"row_heading level0 row7\" >7</th>\n",
       "      <td id=\"T_8010c_row7_col0\" class=\"data row7 col0\" >Numeric features</td>\n",
       "      <td id=\"T_8010c_row7_col1\" class=\"data row7 col1\" >51</td>\n",
       "    </tr>\n",
       "    <tr>\n",
       "      <th id=\"T_8010c_level0_row8\" class=\"row_heading level0 row8\" >8</th>\n",
       "      <td id=\"T_8010c_row8_col0\" class=\"data row8 col0\" >Rows with missing values</td>\n",
       "      <td id=\"T_8010c_row8_col1\" class=\"data row8 col1\" >23.0%</td>\n",
       "    </tr>\n",
       "    <tr>\n",
       "      <th id=\"T_8010c_level0_row9\" class=\"row_heading level0 row9\" >9</th>\n",
       "      <td id=\"T_8010c_row9_col0\" class=\"data row9 col0\" >Preprocess</td>\n",
       "      <td id=\"T_8010c_row9_col1\" class=\"data row9 col1\" >True</td>\n",
       "    </tr>\n",
       "    <tr>\n",
       "      <th id=\"T_8010c_level0_row10\" class=\"row_heading level0 row10\" >10</th>\n",
       "      <td id=\"T_8010c_row10_col0\" class=\"data row10 col0\" >Imputation type</td>\n",
       "      <td id=\"T_8010c_row10_col1\" class=\"data row10 col1\" >simple</td>\n",
       "    </tr>\n",
       "    <tr>\n",
       "      <th id=\"T_8010c_level0_row11\" class=\"row_heading level0 row11\" >11</th>\n",
       "      <td id=\"T_8010c_row11_col0\" class=\"data row11 col0\" >Numeric imputation</td>\n",
       "      <td id=\"T_8010c_row11_col1\" class=\"data row11 col1\" >mean</td>\n",
       "    </tr>\n",
       "    <tr>\n",
       "      <th id=\"T_8010c_level0_row12\" class=\"row_heading level0 row12\" >12</th>\n",
       "      <td id=\"T_8010c_row12_col0\" class=\"data row12 col0\" >Categorical imputation</td>\n",
       "      <td id=\"T_8010c_row12_col1\" class=\"data row12 col1\" >mode</td>\n",
       "    </tr>\n",
       "    <tr>\n",
       "      <th id=\"T_8010c_level0_row13\" class=\"row_heading level0 row13\" >13</th>\n",
       "      <td id=\"T_8010c_row13_col0\" class=\"data row13 col0\" >Fold Generator</td>\n",
       "      <td id=\"T_8010c_row13_col1\" class=\"data row13 col1\" >KFold</td>\n",
       "    </tr>\n",
       "    <tr>\n",
       "      <th id=\"T_8010c_level0_row14\" class=\"row_heading level0 row14\" >14</th>\n",
       "      <td id=\"T_8010c_row14_col0\" class=\"data row14 col0\" >Fold Number</td>\n",
       "      <td id=\"T_8010c_row14_col1\" class=\"data row14 col1\" >10</td>\n",
       "    </tr>\n",
       "    <tr>\n",
       "      <th id=\"T_8010c_level0_row15\" class=\"row_heading level0 row15\" >15</th>\n",
       "      <td id=\"T_8010c_row15_col0\" class=\"data row15 col0\" >CPU Jobs</td>\n",
       "      <td id=\"T_8010c_row15_col1\" class=\"data row15 col1\" >-1</td>\n",
       "    </tr>\n",
       "    <tr>\n",
       "      <th id=\"T_8010c_level0_row16\" class=\"row_heading level0 row16\" >16</th>\n",
       "      <td id=\"T_8010c_row16_col0\" class=\"data row16 col0\" >Use GPU</td>\n",
       "      <td id=\"T_8010c_row16_col1\" class=\"data row16 col1\" >False</td>\n",
       "    </tr>\n",
       "    <tr>\n",
       "      <th id=\"T_8010c_level0_row17\" class=\"row_heading level0 row17\" >17</th>\n",
       "      <td id=\"T_8010c_row17_col0\" class=\"data row17 col0\" >Log Experiment</td>\n",
       "      <td id=\"T_8010c_row17_col1\" class=\"data row17 col1\" >False</td>\n",
       "    </tr>\n",
       "    <tr>\n",
       "      <th id=\"T_8010c_level0_row18\" class=\"row_heading level0 row18\" >18</th>\n",
       "      <td id=\"T_8010c_row18_col0\" class=\"data row18 col0\" >Experiment Name</td>\n",
       "      <td id=\"T_8010c_row18_col1\" class=\"data row18 col1\" >reg-default-name</td>\n",
       "    </tr>\n",
       "    <tr>\n",
       "      <th id=\"T_8010c_level0_row19\" class=\"row_heading level0 row19\" >19</th>\n",
       "      <td id=\"T_8010c_row19_col0\" class=\"data row19 col0\" >USI</td>\n",
       "      <td id=\"T_8010c_row19_col1\" class=\"data row19 col1\" >62b9</td>\n",
       "    </tr>\n",
       "  </tbody>\n",
       "</table>\n"
      ],
      "text/plain": [
       "<pandas.io.formats.style.Styler at 0x7eb5554ff310>"
      ]
     },
     "metadata": {},
     "output_type": "display_data"
    },
    {
     "data": {
      "text/html": [],
      "text/plain": [
       "<IPython.core.display.HTML object>"
      ]
     },
     "metadata": {},
     "output_type": "display_data"
    },
    {
     "data": {
      "text/html": [
       "<style type=\"text/css\">\n",
       "#T_18a34 th {\n",
       "  text-align: left;\n",
       "}\n",
       "#T_18a34_row0_col0, #T_18a34_row1_col0, #T_18a34_row1_col1, #T_18a34_row1_col2, #T_18a34_row1_col3, #T_18a34_row1_col4, #T_18a34_row1_col5, #T_18a34_row1_col6, #T_18a34_row2_col0, #T_18a34_row2_col1, #T_18a34_row2_col2, #T_18a34_row2_col3, #T_18a34_row2_col4, #T_18a34_row2_col5, #T_18a34_row2_col6, #T_18a34_row3_col0, #T_18a34_row3_col1, #T_18a34_row3_col2, #T_18a34_row3_col3, #T_18a34_row3_col4, #T_18a34_row3_col5, #T_18a34_row3_col6, #T_18a34_row4_col0, #T_18a34_row4_col1, #T_18a34_row4_col2, #T_18a34_row4_col3, #T_18a34_row4_col4, #T_18a34_row4_col5, #T_18a34_row4_col6, #T_18a34_row5_col0, #T_18a34_row5_col1, #T_18a34_row5_col2, #T_18a34_row5_col3, #T_18a34_row5_col4, #T_18a34_row5_col5, #T_18a34_row5_col6, #T_18a34_row6_col0, #T_18a34_row6_col1, #T_18a34_row6_col2, #T_18a34_row6_col3, #T_18a34_row6_col4, #T_18a34_row6_col5, #T_18a34_row6_col6, #T_18a34_row7_col0, #T_18a34_row7_col1, #T_18a34_row7_col2, #T_18a34_row7_col3, #T_18a34_row7_col4, #T_18a34_row7_col5, #T_18a34_row7_col6, #T_18a34_row8_col0, #T_18a34_row8_col1, #T_18a34_row8_col2, #T_18a34_row8_col3, #T_18a34_row8_col4, #T_18a34_row8_col5, #T_18a34_row8_col6, #T_18a34_row9_col0, #T_18a34_row9_col1, #T_18a34_row9_col2, #T_18a34_row9_col3, #T_18a34_row9_col4, #T_18a34_row9_col5, #T_18a34_row9_col6, #T_18a34_row10_col0, #T_18a34_row10_col1, #T_18a34_row10_col2, #T_18a34_row10_col3, #T_18a34_row10_col4, #T_18a34_row10_col5, #T_18a34_row10_col6, #T_18a34_row11_col0, #T_18a34_row11_col1, #T_18a34_row11_col2, #T_18a34_row11_col3, #T_18a34_row11_col4, #T_18a34_row11_col5, #T_18a34_row11_col6, #T_18a34_row12_col0, #T_18a34_row12_col1, #T_18a34_row12_col2, #T_18a34_row12_col3, #T_18a34_row12_col4, #T_18a34_row12_col5, #T_18a34_row12_col6, #T_18a34_row13_col0, #T_18a34_row13_col1, #T_18a34_row13_col2, #T_18a34_row13_col3, #T_18a34_row13_col4, #T_18a34_row13_col5, #T_18a34_row13_col6, #T_18a34_row14_col0, #T_18a34_row14_col1, #T_18a34_row14_col2, #T_18a34_row14_col3, #T_18a34_row14_col4, #T_18a34_row14_col5, #T_18a34_row14_col6, #T_18a34_row15_col0, #T_18a34_row15_col1, #T_18a34_row15_col2, #T_18a34_row15_col3, #T_18a34_row15_col4, #T_18a34_row15_col5, #T_18a34_row15_col6, #T_18a34_row16_col0, #T_18a34_row16_col1, #T_18a34_row16_col2, #T_18a34_row16_col3, #T_18a34_row16_col4, #T_18a34_row16_col5, #T_18a34_row16_col6, #T_18a34_row17_col0, #T_18a34_row17_col1, #T_18a34_row17_col2, #T_18a34_row17_col3, #T_18a34_row17_col4, #T_18a34_row17_col5, #T_18a34_row17_col6, #T_18a34_row18_col0, #T_18a34_row18_col1, #T_18a34_row18_col2, #T_18a34_row18_col3, #T_18a34_row18_col4, #T_18a34_row18_col5, #T_18a34_row18_col6, #T_18a34_row19_col0, #T_18a34_row19_col1, #T_18a34_row19_col2, #T_18a34_row19_col3, #T_18a34_row19_col4, #T_18a34_row19_col5, #T_18a34_row19_col6 {\n",
       "  text-align: left;\n",
       "}\n",
       "#T_18a34_row0_col1, #T_18a34_row0_col2, #T_18a34_row0_col3, #T_18a34_row0_col4, #T_18a34_row0_col5, #T_18a34_row0_col6 {\n",
       "  text-align: left;\n",
       "  background-color: yellow;\n",
       "}\n",
       "#T_18a34_row0_col7, #T_18a34_row1_col7, #T_18a34_row2_col7, #T_18a34_row3_col7, #T_18a34_row4_col7, #T_18a34_row5_col7, #T_18a34_row6_col7, #T_18a34_row8_col7, #T_18a34_row9_col7, #T_18a34_row10_col7, #T_18a34_row11_col7, #T_18a34_row12_col7, #T_18a34_row13_col7, #T_18a34_row14_col7, #T_18a34_row15_col7, #T_18a34_row16_col7, #T_18a34_row17_col7, #T_18a34_row18_col7, #T_18a34_row19_col7 {\n",
       "  text-align: left;\n",
       "  background-color: lightgrey;\n",
       "}\n",
       "#T_18a34_row7_col7 {\n",
       "  text-align: left;\n",
       "  background-color: yellow;\n",
       "  background-color: lightgrey;\n",
       "}\n",
       "</style>\n",
       "<table id=\"T_18a34\">\n",
       "  <thead>\n",
       "    <tr>\n",
       "      <th class=\"blank level0\" >&nbsp;</th>\n",
       "      <th id=\"T_18a34_level0_col0\" class=\"col_heading level0 col0\" >Model</th>\n",
       "      <th id=\"T_18a34_level0_col1\" class=\"col_heading level0 col1\" >MAE</th>\n",
       "      <th id=\"T_18a34_level0_col2\" class=\"col_heading level0 col2\" >MSE</th>\n",
       "      <th id=\"T_18a34_level0_col3\" class=\"col_heading level0 col3\" >RMSE</th>\n",
       "      <th id=\"T_18a34_level0_col4\" class=\"col_heading level0 col4\" >R2</th>\n",
       "      <th id=\"T_18a34_level0_col5\" class=\"col_heading level0 col5\" >RMSLE</th>\n",
       "      <th id=\"T_18a34_level0_col6\" class=\"col_heading level0 col6\" >MAPE</th>\n",
       "      <th id=\"T_18a34_level0_col7\" class=\"col_heading level0 col7\" >TT (Sec)</th>\n",
       "    </tr>\n",
       "  </thead>\n",
       "  <tbody>\n",
       "    <tr>\n",
       "      <th id=\"T_18a34_level0_row0\" class=\"row_heading level0 row0\" >catboost</th>\n",
       "      <td id=\"T_18a34_row0_col0\" class=\"data row0 col0\" >CatBoost Regressor</td>\n",
       "      <td id=\"T_18a34_row0_col1\" class=\"data row0 col1\" >2.9922</td>\n",
       "      <td id=\"T_18a34_row0_col2\" class=\"data row0 col2\" >14.1788</td>\n",
       "      <td id=\"T_18a34_row0_col3\" class=\"data row0 col3\" >3.7638</td>\n",
       "      <td id=\"T_18a34_row0_col4\" class=\"data row0 col4\" >0.6116</td>\n",
       "      <td id=\"T_18a34_row0_col5\" class=\"data row0 col5\" >0.3318</td>\n",
       "      <td id=\"T_18a34_row0_col6\" class=\"data row0 col6\" >0.7528</td>\n",
       "      <td id=\"T_18a34_row0_col7\" class=\"data row0 col7\" >10.1790</td>\n",
       "    </tr>\n",
       "    <tr>\n",
       "      <th id=\"T_18a34_level0_row1\" class=\"row_heading level0 row1\" >gbr</th>\n",
       "      <td id=\"T_18a34_row1_col0\" class=\"data row1 col0\" >Gradient Boosting Regressor</td>\n",
       "      <td id=\"T_18a34_row1_col1\" class=\"data row1 col1\" >3.0087</td>\n",
       "      <td id=\"T_18a34_row1_col2\" class=\"data row1 col2\" >14.3193</td>\n",
       "      <td id=\"T_18a34_row1_col3\" class=\"data row1 col3\" >3.7821</td>\n",
       "      <td id=\"T_18a34_row1_col4\" class=\"data row1 col4\" >0.6077</td>\n",
       "      <td id=\"T_18a34_row1_col5\" class=\"data row1 col5\" >0.3348</td>\n",
       "      <td id=\"T_18a34_row1_col6\" class=\"data row1 col6\" >0.8244</td>\n",
       "      <td id=\"T_18a34_row1_col7\" class=\"data row1 col7\" >4.9050</td>\n",
       "    </tr>\n",
       "    <tr>\n",
       "      <th id=\"T_18a34_level0_row2\" class=\"row_heading level0 row2\" >lightgbm</th>\n",
       "      <td id=\"T_18a34_row2_col0\" class=\"data row2 col0\" >Light Gradient Boosting Machine</td>\n",
       "      <td id=\"T_18a34_row2_col1\" class=\"data row2 col1\" >3.0326</td>\n",
       "      <td id=\"T_18a34_row2_col2\" class=\"data row2 col2\" >14.6154</td>\n",
       "      <td id=\"T_18a34_row2_col3\" class=\"data row2 col3\" >3.8205</td>\n",
       "      <td id=\"T_18a34_row2_col4\" class=\"data row2 col4\" >0.5996</td>\n",
       "      <td id=\"T_18a34_row2_col5\" class=\"data row2 col5\" >0.3364</td>\n",
       "      <td id=\"T_18a34_row2_col6\" class=\"data row2 col6\" >0.8299</td>\n",
       "      <td id=\"T_18a34_row2_col7\" class=\"data row2 col7\" >1.4520</td>\n",
       "    </tr>\n",
       "    <tr>\n",
       "      <th id=\"T_18a34_level0_row3\" class=\"row_heading level0 row3\" >et</th>\n",
       "      <td id=\"T_18a34_row3_col0\" class=\"data row3 col0\" >Extra Trees Regressor</td>\n",
       "      <td id=\"T_18a34_row3_col1\" class=\"data row3 col1\" >3.1511</td>\n",
       "      <td id=\"T_18a34_row3_col2\" class=\"data row3 col2\" >15.7304</td>\n",
       "      <td id=\"T_18a34_row3_col3\" class=\"data row3 col3\" >3.9645</td>\n",
       "      <td id=\"T_18a34_row3_col4\" class=\"data row3 col4\" >0.5689</td>\n",
       "      <td id=\"T_18a34_row3_col5\" class=\"data row3 col5\" >0.3518</td>\n",
       "      <td id=\"T_18a34_row3_col6\" class=\"data row3 col6\" >0.9997</td>\n",
       "      <td id=\"T_18a34_row3_col7\" class=\"data row3 col7\" >3.1410</td>\n",
       "    </tr>\n",
       "    <tr>\n",
       "      <th id=\"T_18a34_level0_row4\" class=\"row_heading level0 row4\" >rf</th>\n",
       "      <td id=\"T_18a34_row4_col0\" class=\"data row4 col0\" >Random Forest Regressor</td>\n",
       "      <td id=\"T_18a34_row4_col1\" class=\"data row4 col1\" >3.2026</td>\n",
       "      <td id=\"T_18a34_row4_col2\" class=\"data row4 col2\" >16.1960</td>\n",
       "      <td id=\"T_18a34_row4_col3\" class=\"data row4 col3\" >4.0224</td>\n",
       "      <td id=\"T_18a34_row4_col4\" class=\"data row4 col4\" >0.5562</td>\n",
       "      <td id=\"T_18a34_row4_col5\" class=\"data row4 col5\" >0.3539</td>\n",
       "      <td id=\"T_18a34_row4_col6\" class=\"data row4 col6\" >0.9335</td>\n",
       "      <td id=\"T_18a34_row4_col7\" class=\"data row4 col7\" >10.3470</td>\n",
       "    </tr>\n",
       "    <tr>\n",
       "      <th id=\"T_18a34_level0_row5\" class=\"row_heading level0 row5\" >xgboost</th>\n",
       "      <td id=\"T_18a34_row5_col0\" class=\"data row5 col0\" >Extreme Gradient Boosting</td>\n",
       "      <td id=\"T_18a34_row5_col1\" class=\"data row5 col1\" >3.2404</td>\n",
       "      <td id=\"T_18a34_row5_col2\" class=\"data row5 col2\" >16.5713</td>\n",
       "      <td id=\"T_18a34_row5_col3\" class=\"data row5 col3\" >4.0688</td>\n",
       "      <td id=\"T_18a34_row5_col4\" class=\"data row5 col4\" >0.5459</td>\n",
       "      <td id=\"T_18a34_row5_col5\" class=\"data row5 col5\" >0.3549</td>\n",
       "      <td id=\"T_18a34_row5_col6\" class=\"data row5 col6\" >0.8036</td>\n",
       "      <td id=\"T_18a34_row5_col7\" class=\"data row5 col7\" >3.4830</td>\n",
       "    </tr>\n",
       "    <tr>\n",
       "      <th id=\"T_18a34_level0_row6\" class=\"row_heading level0 row6\" >ada</th>\n",
       "      <td id=\"T_18a34_row6_col0\" class=\"data row6 col0\" >AdaBoost Regressor</td>\n",
       "      <td id=\"T_18a34_row6_col1\" class=\"data row6 col1\" >3.2479</td>\n",
       "      <td id=\"T_18a34_row6_col2\" class=\"data row6 col2\" >16.7663</td>\n",
       "      <td id=\"T_18a34_row6_col3\" class=\"data row6 col3\" >4.0916</td>\n",
       "      <td id=\"T_18a34_row6_col4\" class=\"data row6 col4\" >0.5408</td>\n",
       "      <td id=\"T_18a34_row6_col5\" class=\"data row6 col5\" >0.3579</td>\n",
       "      <td id=\"T_18a34_row6_col6\" class=\"data row6 col6\" >0.9842</td>\n",
       "      <td id=\"T_18a34_row6_col7\" class=\"data row6 col7\" >1.4040</td>\n",
       "    </tr>\n",
       "    <tr>\n",
       "      <th id=\"T_18a34_level0_row7\" class=\"row_heading level0 row7\" >omp</th>\n",
       "      <td id=\"T_18a34_row7_col0\" class=\"data row7 col0\" >Orthogonal Matching Pursuit</td>\n",
       "      <td id=\"T_18a34_row7_col1\" class=\"data row7 col1\" >3.4734</td>\n",
       "      <td id=\"T_18a34_row7_col2\" class=\"data row7 col2\" >19.2755</td>\n",
       "      <td id=\"T_18a34_row7_col3\" class=\"data row7 col3\" >4.3892</td>\n",
       "      <td id=\"T_18a34_row7_col4\" class=\"data row7 col4\" >0.4719</td>\n",
       "      <td id=\"T_18a34_row7_col5\" class=\"data row7 col5\" >0.3738</td>\n",
       "      <td id=\"T_18a34_row7_col6\" class=\"data row7 col6\" >1.0268</td>\n",
       "      <td id=\"T_18a34_row7_col7\" class=\"data row7 col7\" >0.0420</td>\n",
       "    </tr>\n",
       "    <tr>\n",
       "      <th id=\"T_18a34_level0_row8\" class=\"row_heading level0 row8\" >ridge</th>\n",
       "      <td id=\"T_18a34_row8_col0\" class=\"data row8 col0\" >Ridge Regression</td>\n",
       "      <td id=\"T_18a34_row8_col1\" class=\"data row8 col1\" >3.4867</td>\n",
       "      <td id=\"T_18a34_row8_col2\" class=\"data row8 col2\" >19.4210</td>\n",
       "      <td id=\"T_18a34_row8_col3\" class=\"data row8 col3\" >4.4057</td>\n",
       "      <td id=\"T_18a34_row8_col4\" class=\"data row8 col4\" >0.4680</td>\n",
       "      <td id=\"T_18a34_row8_col5\" class=\"data row8 col5\" >0.3749</td>\n",
       "      <td id=\"T_18a34_row8_col6\" class=\"data row8 col6\" >1.0538</td>\n",
       "      <td id=\"T_18a34_row8_col7\" class=\"data row8 col7\" >0.0550</td>\n",
       "    </tr>\n",
       "    <tr>\n",
       "      <th id=\"T_18a34_level0_row9\" class=\"row_heading level0 row9\" >lr</th>\n",
       "      <td id=\"T_18a34_row9_col0\" class=\"data row9 col0\" >Linear Regression</td>\n",
       "      <td id=\"T_18a34_row9_col1\" class=\"data row9 col1\" >3.4866</td>\n",
       "      <td id=\"T_18a34_row9_col2\" class=\"data row9 col2\" >19.4215</td>\n",
       "      <td id=\"T_18a34_row9_col3\" class=\"data row9 col3\" >4.4058</td>\n",
       "      <td id=\"T_18a34_row9_col4\" class=\"data row9 col4\" >0.4680</td>\n",
       "      <td id=\"T_18a34_row9_col5\" class=\"data row9 col5\" >0.3749</td>\n",
       "      <td id=\"T_18a34_row9_col6\" class=\"data row9 col6\" >1.0522</td>\n",
       "      <td id=\"T_18a34_row9_col7\" class=\"data row9 col7\" >0.4480</td>\n",
       "    </tr>\n",
       "    <tr>\n",
       "      <th id=\"T_18a34_level0_row10\" class=\"row_heading level0 row10\" >br</th>\n",
       "      <td id=\"T_18a34_row10_col0\" class=\"data row10 col0\" >Bayesian Ridge</td>\n",
       "      <td id=\"T_18a34_row10_col1\" class=\"data row10 col1\" >3.4872</td>\n",
       "      <td id=\"T_18a34_row10_col2\" class=\"data row10 col2\" >19.4203</td>\n",
       "      <td id=\"T_18a34_row10_col3\" class=\"data row10 col3\" >4.4056</td>\n",
       "      <td id=\"T_18a34_row10_col4\" class=\"data row10 col4\" >0.4680</td>\n",
       "      <td id=\"T_18a34_row10_col5\" class=\"data row10 col5\" >0.3753</td>\n",
       "      <td id=\"T_18a34_row10_col6\" class=\"data row10 col6\" >1.0595</td>\n",
       "      <td id=\"T_18a34_row10_col7\" class=\"data row10 col7\" >0.0590</td>\n",
       "    </tr>\n",
       "    <tr>\n",
       "      <th id=\"T_18a34_level0_row11\" class=\"row_heading level0 row11\" >huber</th>\n",
       "      <td id=\"T_18a34_row11_col0\" class=\"data row11 col0\" >Huber Regressor</td>\n",
       "      <td id=\"T_18a34_row11_col1\" class=\"data row11 col1\" >3.4971</td>\n",
       "      <td id=\"T_18a34_row11_col2\" class=\"data row11 col2\" >19.5678</td>\n",
       "      <td id=\"T_18a34_row11_col3\" class=\"data row11 col3\" >4.4223</td>\n",
       "      <td id=\"T_18a34_row11_col4\" class=\"data row11 col4\" >0.4639</td>\n",
       "      <td id=\"T_18a34_row11_col5\" class=\"data row11 col5\" >0.3767</td>\n",
       "      <td id=\"T_18a34_row11_col6\" class=\"data row11 col6\" >1.0319</td>\n",
       "      <td id=\"T_18a34_row11_col7\" class=\"data row11 col7\" >0.1460</td>\n",
       "    </tr>\n",
       "    <tr>\n",
       "      <th id=\"T_18a34_level0_row12\" class=\"row_heading level0 row12\" >lar</th>\n",
       "      <td id=\"T_18a34_row12_col0\" class=\"data row12 col0\" >Least Angle Regression</td>\n",
       "      <td id=\"T_18a34_row12_col1\" class=\"data row12 col1\" >3.6272</td>\n",
       "      <td id=\"T_18a34_row12_col2\" class=\"data row12 col2\" >21.3495</td>\n",
       "      <td id=\"T_18a34_row12_col3\" class=\"data row12 col3\" >4.6189</td>\n",
       "      <td id=\"T_18a34_row12_col4\" class=\"data row12 col4\" >0.4147</td>\n",
       "      <td id=\"T_18a34_row12_col5\" class=\"data row12 col5\" >0.3920</td>\n",
       "      <td id=\"T_18a34_row12_col6\" class=\"data row12 col6\" >0.7845</td>\n",
       "      <td id=\"T_18a34_row12_col7\" class=\"data row12 col7\" >0.0610</td>\n",
       "    </tr>\n",
       "    <tr>\n",
       "      <th id=\"T_18a34_level0_row13\" class=\"row_heading level0 row13\" >dt</th>\n",
       "      <td id=\"T_18a34_row13_col0\" class=\"data row13 col0\" >Decision Tree Regressor</td>\n",
       "      <td id=\"T_18a34_row13_col1\" class=\"data row13 col1\" >4.6447</td>\n",
       "      <td id=\"T_18a34_row13_col2\" class=\"data row13 col2\" >33.8294</td>\n",
       "      <td id=\"T_18a34_row13_col3\" class=\"data row13 col3\" >5.8144</td>\n",
       "      <td id=\"T_18a34_row13_col4\" class=\"data row13 col4\" >0.0735</td>\n",
       "      <td id=\"T_18a34_row13_col5\" class=\"data row13 col5\" >0.5057</td>\n",
       "      <td id=\"T_18a34_row13_col6\" class=\"data row13 col6\" >1.0847</td>\n",
       "      <td id=\"T_18a34_row13_col7\" class=\"data row13 col7\" >0.2450</td>\n",
       "    </tr>\n",
       "    <tr>\n",
       "      <th id=\"T_18a34_level0_row14\" class=\"row_heading level0 row14\" >en</th>\n",
       "      <td id=\"T_18a34_row14_col0\" class=\"data row14 col0\" >Elastic Net</td>\n",
       "      <td id=\"T_18a34_row14_col1\" class=\"data row14 col1\" >4.7842</td>\n",
       "      <td id=\"T_18a34_row14_col2\" class=\"data row14 col2\" >35.4203</td>\n",
       "      <td id=\"T_18a34_row14_col3\" class=\"data row14 col3\" >5.9507</td>\n",
       "      <td id=\"T_18a34_row14_col4\" class=\"data row14 col4\" >0.0305</td>\n",
       "      <td id=\"T_18a34_row14_col5\" class=\"data row14 col5\" >0.4992</td>\n",
       "      <td id=\"T_18a34_row14_col6\" class=\"data row14 col6\" >1.9738</td>\n",
       "      <td id=\"T_18a34_row14_col7\" class=\"data row14 col7\" >0.0550</td>\n",
       "    </tr>\n",
       "    <tr>\n",
       "      <th id=\"T_18a34_level0_row15\" class=\"row_heading level0 row15\" >dummy</th>\n",
       "      <td id=\"T_18a34_row15_col0\" class=\"data row15 col0\" >Dummy Regressor</td>\n",
       "      <td id=\"T_18a34_row15_col1\" class=\"data row15 col1\" >4.8635</td>\n",
       "      <td id=\"T_18a34_row15_col2\" class=\"data row15 col2\" >36.5851</td>\n",
       "      <td id=\"T_18a34_row15_col3\" class=\"data row15 col3\" >6.0477</td>\n",
       "      <td id=\"T_18a34_row15_col4\" class=\"data row15 col4\" >-0.0013</td>\n",
       "      <td id=\"T_18a34_row15_col5\" class=\"data row15 col5\" >0.5051</td>\n",
       "      <td id=\"T_18a34_row15_col6\" class=\"data row15 col6\" >2.0085</td>\n",
       "      <td id=\"T_18a34_row15_col7\" class=\"data row15 col7\" >0.0960</td>\n",
       "    </tr>\n",
       "    <tr>\n",
       "      <th id=\"T_18a34_level0_row16\" class=\"row_heading level0 row16\" >lasso</th>\n",
       "      <td id=\"T_18a34_row16_col0\" class=\"data row16 col0\" >Lasso Regression</td>\n",
       "      <td id=\"T_18a34_row16_col1\" class=\"data row16 col1\" >4.8644</td>\n",
       "      <td id=\"T_18a34_row16_col2\" class=\"data row16 col2\" >36.5970</td>\n",
       "      <td id=\"T_18a34_row16_col3\" class=\"data row16 col3\" >6.0487</td>\n",
       "      <td id=\"T_18a34_row16_col4\" class=\"data row16 col4\" >-0.0017</td>\n",
       "      <td id=\"T_18a34_row16_col5\" class=\"data row16 col5\" >0.5051</td>\n",
       "      <td id=\"T_18a34_row16_col6\" class=\"data row16 col6\" >2.0107</td>\n",
       "      <td id=\"T_18a34_row16_col7\" class=\"data row16 col7\" >0.0520</td>\n",
       "    </tr>\n",
       "    <tr>\n",
       "      <th id=\"T_18a34_level0_row17\" class=\"row_heading level0 row17\" >llar</th>\n",
       "      <td id=\"T_18a34_row17_col0\" class=\"data row17 col0\" >Lasso Least Angle Regression</td>\n",
       "      <td id=\"T_18a34_row17_col1\" class=\"data row17 col1\" >4.8644</td>\n",
       "      <td id=\"T_18a34_row17_col2\" class=\"data row17 col2\" >36.5970</td>\n",
       "      <td id=\"T_18a34_row17_col3\" class=\"data row17 col3\" >6.0487</td>\n",
       "      <td id=\"T_18a34_row17_col4\" class=\"data row17 col4\" >-0.0017</td>\n",
       "      <td id=\"T_18a34_row17_col5\" class=\"data row17 col5\" >0.5051</td>\n",
       "      <td id=\"T_18a34_row17_col6\" class=\"data row17 col6\" >2.0107</td>\n",
       "      <td id=\"T_18a34_row17_col7\" class=\"data row17 col7\" >0.0510</td>\n",
       "    </tr>\n",
       "    <tr>\n",
       "      <th id=\"T_18a34_level0_row18\" class=\"row_heading level0 row18\" >knn</th>\n",
       "      <td id=\"T_18a34_row18_col0\" class=\"data row18 col0\" >K Neighbors Regressor</td>\n",
       "      <td id=\"T_18a34_row18_col1\" class=\"data row18 col1\" >5.2492</td>\n",
       "      <td id=\"T_18a34_row18_col2\" class=\"data row18 col2\" >42.6316</td>\n",
       "      <td id=\"T_18a34_row18_col3\" class=\"data row18 col3\" >6.5281</td>\n",
       "      <td id=\"T_18a34_row18_col4\" class=\"data row18 col4\" >-0.1669</td>\n",
       "      <td id=\"T_18a34_row18_col5\" class=\"data row18 col5\" >0.5291</td>\n",
       "      <td id=\"T_18a34_row18_col6\" class=\"data row18 col6\" >1.7175</td>\n",
       "      <td id=\"T_18a34_row18_col7\" class=\"data row18 col7\" >0.0720</td>\n",
       "    </tr>\n",
       "    <tr>\n",
       "      <th id=\"T_18a34_level0_row19\" class=\"row_heading level0 row19\" >par</th>\n",
       "      <td id=\"T_18a34_row19_col0\" class=\"data row19 col0\" >Passive Aggressive Regressor</td>\n",
       "      <td id=\"T_18a34_row19_col1\" class=\"data row19 col1\" >6.2599</td>\n",
       "      <td id=\"T_18a34_row19_col2\" class=\"data row19 col2\" >80.3511</td>\n",
       "      <td id=\"T_18a34_row19_col3\" class=\"data row19 col3\" >7.6669</td>\n",
       "      <td id=\"T_18a34_row19_col4\" class=\"data row19 col4\" >-1.1362</td>\n",
       "      <td id=\"T_18a34_row19_col5\" class=\"data row19 col5\" >0.5606</td>\n",
       "      <td id=\"T_18a34_row19_col6\" class=\"data row19 col6\" >2.0927</td>\n",
       "      <td id=\"T_18a34_row19_col7\" class=\"data row19 col7\" >0.0640</td>\n",
       "    </tr>\n",
       "  </tbody>\n",
       "</table>\n"
      ],
      "text/plain": [
       "<pandas.io.formats.style.Styler at 0x7eb56fb75810>"
      ]
     },
     "metadata": {},
     "output_type": "display_data"
    },
    {
     "data": {
      "application/vnd.jupyter.widget-view+json": {
       "model_id": "f0b2c41193fa4eb58b8e9d5a74ffcd5e",
       "version_major": 2,
       "version_minor": 0
      },
      "text/plain": [
       "Processing:   0%|          | 0/85 [00:00<?, ?it/s]"
      ]
     },
     "metadata": {},
     "output_type": "display_data"
    }
   ],
   "source": [
    "from pycaret.regression import *\n",
    "s = setup(data =  tda, target='value')\n",
    "cm = compare_models()"
   ]
  },
  {
   "cell_type": "code",
   "execution_count": 5,
   "id": "a65e41ce",
   "metadata": {
    "execution": {
     "iopub.execute_input": "2023-07-12T18:51:00.387350Z",
     "iopub.status.busy": "2023-07-12T18:51:00.386955Z",
     "iopub.status.idle": "2023-07-12T18:51:01.895064Z",
     "shell.execute_reply": "2023-07-12T18:51:01.893998Z"
    },
    "papermill": {
     "duration": 1.528728,
     "end_time": "2023-07-12T18:51:01.897489",
     "exception": false,
     "start_time": "2023-07-12T18:51:00.368761",
     "status": "completed"
    },
    "tags": []
   },
   "outputs": [
    {
     "data": {
      "text/html": [],
      "text/plain": [
       "<IPython.core.display.HTML object>"
      ]
     },
     "metadata": {},
     "output_type": "display_data"
    },
    {
     "data": {
      "text/html": [
       "<style type=\"text/css\">\n",
       "#T_936bc_row10_col0, #T_936bc_row10_col1, #T_936bc_row10_col2, #T_936bc_row10_col3, #T_936bc_row10_col4, #T_936bc_row10_col5 {\n",
       "  background: yellow;\n",
       "}\n",
       "</style>\n",
       "<table id=\"T_936bc\">\n",
       "  <thead>\n",
       "    <tr>\n",
       "      <th class=\"blank level0\" >&nbsp;</th>\n",
       "      <th id=\"T_936bc_level0_col0\" class=\"col_heading level0 col0\" >MAE</th>\n",
       "      <th id=\"T_936bc_level0_col1\" class=\"col_heading level0 col1\" >MSE</th>\n",
       "      <th id=\"T_936bc_level0_col2\" class=\"col_heading level0 col2\" >RMSE</th>\n",
       "      <th id=\"T_936bc_level0_col3\" class=\"col_heading level0 col3\" >R2</th>\n",
       "      <th id=\"T_936bc_level0_col4\" class=\"col_heading level0 col4\" >RMSLE</th>\n",
       "      <th id=\"T_936bc_level0_col5\" class=\"col_heading level0 col5\" >MAPE</th>\n",
       "    </tr>\n",
       "    <tr>\n",
       "      <th class=\"index_name level0\" >Fold</th>\n",
       "      <th class=\"blank col0\" >&nbsp;</th>\n",
       "      <th class=\"blank col1\" >&nbsp;</th>\n",
       "      <th class=\"blank col2\" >&nbsp;</th>\n",
       "      <th class=\"blank col3\" >&nbsp;</th>\n",
       "      <th class=\"blank col4\" >&nbsp;</th>\n",
       "      <th class=\"blank col5\" >&nbsp;</th>\n",
       "    </tr>\n",
       "  </thead>\n",
       "  <tbody>\n",
       "    <tr>\n",
       "      <th id=\"T_936bc_level0_row0\" class=\"row_heading level0 row0\" >0</th>\n",
       "      <td id=\"T_936bc_row0_col0\" class=\"data row0 col0\" >2.8275</td>\n",
       "      <td id=\"T_936bc_row0_col1\" class=\"data row0 col1\" >12.4170</td>\n",
       "      <td id=\"T_936bc_row0_col2\" class=\"data row0 col2\" >3.5238</td>\n",
       "      <td id=\"T_936bc_row0_col3\" class=\"data row0 col3\" >0.6623</td>\n",
       "      <td id=\"T_936bc_row0_col4\" class=\"data row0 col4\" >0.3309</td>\n",
       "      <td id=\"T_936bc_row0_col5\" class=\"data row0 col5\" >2.3154</td>\n",
       "    </tr>\n",
       "    <tr>\n",
       "      <th id=\"T_936bc_level0_row1\" class=\"row_heading level0 row1\" >1</th>\n",
       "      <td id=\"T_936bc_row1_col0\" class=\"data row1 col0\" >3.1048</td>\n",
       "      <td id=\"T_936bc_row1_col1\" class=\"data row1 col1\" >15.3750</td>\n",
       "      <td id=\"T_936bc_row1_col2\" class=\"data row1 col2\" >3.9211</td>\n",
       "      <td id=\"T_936bc_row1_col3\" class=\"data row1 col3\" >0.5819</td>\n",
       "      <td id=\"T_936bc_row1_col4\" class=\"data row1 col4\" >0.3530</td>\n",
       "      <td id=\"T_936bc_row1_col5\" class=\"data row1 col5\" >0.6722</td>\n",
       "    </tr>\n",
       "    <tr>\n",
       "      <th id=\"T_936bc_level0_row2\" class=\"row_heading level0 row2\" >2</th>\n",
       "      <td id=\"T_936bc_row2_col0\" class=\"data row2 col0\" >3.0485</td>\n",
       "      <td id=\"T_936bc_row2_col1\" class=\"data row2 col1\" >14.2210</td>\n",
       "      <td id=\"T_936bc_row2_col2\" class=\"data row2 col2\" >3.7711</td>\n",
       "      <td id=\"T_936bc_row2_col3\" class=\"data row2 col3\" >0.6013</td>\n",
       "      <td id=\"T_936bc_row2_col4\" class=\"data row2 col4\" >0.3094</td>\n",
       "      <td id=\"T_936bc_row2_col5\" class=\"data row2 col5\" >0.3311</td>\n",
       "    </tr>\n",
       "    <tr>\n",
       "      <th id=\"T_936bc_level0_row3\" class=\"row_heading level0 row3\" >3</th>\n",
       "      <td id=\"T_936bc_row3_col0\" class=\"data row3 col0\" >3.0396</td>\n",
       "      <td id=\"T_936bc_row3_col1\" class=\"data row3 col1\" >14.3722</td>\n",
       "      <td id=\"T_936bc_row3_col2\" class=\"data row3 col2\" >3.7911</td>\n",
       "      <td id=\"T_936bc_row3_col3\" class=\"data row3 col3\" >0.5771</td>\n",
       "      <td id=\"T_936bc_row3_col4\" class=\"data row3 col4\" >0.3014</td>\n",
       "      <td id=\"T_936bc_row3_col5\" class=\"data row3 col5\" >0.4106</td>\n",
       "    </tr>\n",
       "    <tr>\n",
       "      <th id=\"T_936bc_level0_row4\" class=\"row_heading level0 row4\" >4</th>\n",
       "      <td id=\"T_936bc_row4_col0\" class=\"data row4 col0\" >2.8766</td>\n",
       "      <td id=\"T_936bc_row4_col1\" class=\"data row4 col1\" >13.2589</td>\n",
       "      <td id=\"T_936bc_row4_col2\" class=\"data row4 col2\" >3.6413</td>\n",
       "      <td id=\"T_936bc_row4_col3\" class=\"data row4 col3\" >0.6243</td>\n",
       "      <td id=\"T_936bc_row4_col4\" class=\"data row4 col4\" >0.3391</td>\n",
       "      <td id=\"T_936bc_row4_col5\" class=\"data row4 col5\" >0.4268</td>\n",
       "    </tr>\n",
       "    <tr>\n",
       "      <th id=\"T_936bc_level0_row5\" class=\"row_heading level0 row5\" >5</th>\n",
       "      <td id=\"T_936bc_row5_col0\" class=\"data row5 col0\" >2.9845</td>\n",
       "      <td id=\"T_936bc_row5_col1\" class=\"data row5 col1\" >14.4978</td>\n",
       "      <td id=\"T_936bc_row5_col2\" class=\"data row5 col2\" >3.8076</td>\n",
       "      <td id=\"T_936bc_row5_col3\" class=\"data row5 col3\" >0.6028</td>\n",
       "      <td id=\"T_936bc_row5_col4\" class=\"data row5 col4\" >0.3538</td>\n",
       "      <td id=\"T_936bc_row5_col5\" class=\"data row5 col5\" >0.5377</td>\n",
       "    </tr>\n",
       "    <tr>\n",
       "      <th id=\"T_936bc_level0_row6\" class=\"row_heading level0 row6\" >6</th>\n",
       "      <td id=\"T_936bc_row6_col0\" class=\"data row6 col0\" >3.0175</td>\n",
       "      <td id=\"T_936bc_row6_col1\" class=\"data row6 col1\" >14.2918</td>\n",
       "      <td id=\"T_936bc_row6_col2\" class=\"data row6 col2\" >3.7805</td>\n",
       "      <td id=\"T_936bc_row6_col3\" class=\"data row6 col3\" >0.6109</td>\n",
       "      <td id=\"T_936bc_row6_col4\" class=\"data row6 col4\" >0.3599</td>\n",
       "      <td id=\"T_936bc_row6_col5\" class=\"data row6 col5\" >0.9289</td>\n",
       "    </tr>\n",
       "    <tr>\n",
       "      <th id=\"T_936bc_level0_row7\" class=\"row_heading level0 row7\" >7</th>\n",
       "      <td id=\"T_936bc_row7_col0\" class=\"data row7 col0\" >3.0958</td>\n",
       "      <td id=\"T_936bc_row7_col1\" class=\"data row7 col1\" >15.3378</td>\n",
       "      <td id=\"T_936bc_row7_col2\" class=\"data row7 col2\" >3.9163</td>\n",
       "      <td id=\"T_936bc_row7_col3\" class=\"data row7 col3\" >0.5906</td>\n",
       "      <td id=\"T_936bc_row7_col4\" class=\"data row7 col4\" >0.3509</td>\n",
       "      <td id=\"T_936bc_row7_col5\" class=\"data row7 col5\" >1.1037</td>\n",
       "    </tr>\n",
       "    <tr>\n",
       "      <th id=\"T_936bc_level0_row8\" class=\"row_heading level0 row8\" >8</th>\n",
       "      <td id=\"T_936bc_row8_col0\" class=\"data row8 col0\" >2.9748</td>\n",
       "      <td id=\"T_936bc_row8_col1\" class=\"data row8 col1\" >14.1676</td>\n",
       "      <td id=\"T_936bc_row8_col2\" class=\"data row8 col2\" >3.7640</td>\n",
       "      <td id=\"T_936bc_row8_col3\" class=\"data row8 col3\" >0.6237</td>\n",
       "      <td id=\"T_936bc_row8_col4\" class=\"data row8 col4\" >0.3025</td>\n",
       "      <td id=\"T_936bc_row8_col5\" class=\"data row8 col5\" >0.3140</td>\n",
       "    </tr>\n",
       "    <tr>\n",
       "      <th id=\"T_936bc_level0_row9\" class=\"row_heading level0 row9\" >9</th>\n",
       "      <td id=\"T_936bc_row9_col0\" class=\"data row9 col0\" >2.9524</td>\n",
       "      <td id=\"T_936bc_row9_col1\" class=\"data row9 col1\" >13.8486</td>\n",
       "      <td id=\"T_936bc_row9_col2\" class=\"data row9 col2\" >3.7214</td>\n",
       "      <td id=\"T_936bc_row9_col3\" class=\"data row9 col3\" >0.6408</td>\n",
       "      <td id=\"T_936bc_row9_col4\" class=\"data row9 col4\" >0.3169</td>\n",
       "      <td id=\"T_936bc_row9_col5\" class=\"data row9 col5\" >0.4874</td>\n",
       "    </tr>\n",
       "    <tr>\n",
       "      <th id=\"T_936bc_level0_row10\" class=\"row_heading level0 row10\" >Mean</th>\n",
       "      <td id=\"T_936bc_row10_col0\" class=\"data row10 col0\" >2.9922</td>\n",
       "      <td id=\"T_936bc_row10_col1\" class=\"data row10 col1\" >14.1788</td>\n",
       "      <td id=\"T_936bc_row10_col2\" class=\"data row10 col2\" >3.7638</td>\n",
       "      <td id=\"T_936bc_row10_col3\" class=\"data row10 col3\" >0.6116</td>\n",
       "      <td id=\"T_936bc_row10_col4\" class=\"data row10 col4\" >0.3318</td>\n",
       "      <td id=\"T_936bc_row10_col5\" class=\"data row10 col5\" >0.7528</td>\n",
       "    </tr>\n",
       "    <tr>\n",
       "      <th id=\"T_936bc_level0_row11\" class=\"row_heading level0 row11\" >Std</th>\n",
       "      <td id=\"T_936bc_row11_col0\" class=\"data row11 col0\" >0.0848</td>\n",
       "      <td id=\"T_936bc_row11_col1\" class=\"data row11 col1\" >0.8359</td>\n",
       "      <td id=\"T_936bc_row11_col2\" class=\"data row11 col2\" >0.1120</td>\n",
       "      <td id=\"T_936bc_row11_col3\" class=\"data row11 col3\" >0.0254</td>\n",
       "      <td id=\"T_936bc_row11_col4\" class=\"data row11 col4\" >0.0216</td>\n",
       "      <td id=\"T_936bc_row11_col5\" class=\"data row11 col5\" >0.5756</td>\n",
       "    </tr>\n",
       "  </tbody>\n",
       "</table>\n"
      ],
      "text/plain": [
       "<pandas.io.formats.style.Styler at 0x7eb5559ae5c0>"
      ]
     },
     "metadata": {},
     "output_type": "display_data"
    },
    {
     "data": {
      "application/vnd.jupyter.widget-view+json": {
       "model_id": "49873973e43140f5932d79faf19dfb11",
       "version_major": 2,
       "version_minor": 0
      },
      "text/plain": [
       "Processing:   0%|          | 0/4 [00:00<?, ?it/s]"
      ]
     },
     "metadata": {},
     "output_type": "display_data"
    }
   ],
   "source": [
    "Model = create_model('catboost')"
   ]
  },
  {
   "cell_type": "code",
   "execution_count": 6,
   "id": "8f81673b",
   "metadata": {
    "execution": {
     "iopub.execute_input": "2023-07-12T18:51:01.935699Z",
     "iopub.status.busy": "2023-07-12T18:51:01.934622Z",
     "iopub.status.idle": "2023-07-12T18:51:02.255867Z",
     "shell.execute_reply": "2023-07-12T18:51:02.254858Z"
    },
    "papermill": {
     "duration": 0.342228,
     "end_time": "2023-07-12T18:51:02.258024",
     "exception": false,
     "start_time": "2023-07-12T18:51:01.915796",
     "status": "completed"
    },
    "tags": []
   },
   "outputs": [
    {
     "data": {
      "text/html": [],
      "text/plain": [
       "<IPython.core.display.HTML object>"
      ]
     },
     "metadata": {},
     "output_type": "display_data"
    },
    {
     "data": {
      "text/html": [
       "<div>\n",
       "<style scoped>\n",
       "    .dataframe tbody tr th:only-of-type {\n",
       "        vertical-align: middle;\n",
       "    }\n",
       "\n",
       "    .dataframe tbody tr th {\n",
       "        vertical-align: top;\n",
       "    }\n",
       "\n",
       "    .dataframe thead th {\n",
       "        text-align: right;\n",
       "    }\n",
       "</style>\n",
       "<table border=\"1\" class=\"dataframe\">\n",
       "  <thead>\n",
       "    <tr style=\"text-align: right;\">\n",
       "      <th></th>\n",
       "      <th>Id</th>\n",
       "      <th>0</th>\n",
       "      <th>1</th>\n",
       "      <th>2</th>\n",
       "      <th>3</th>\n",
       "      <th>4</th>\n",
       "      <th>5</th>\n",
       "      <th>6</th>\n",
       "      <th>7</th>\n",
       "      <th>8</th>\n",
       "      <th>...</th>\n",
       "      <th>41</th>\n",
       "      <th>42</th>\n",
       "      <th>43</th>\n",
       "      <th>44</th>\n",
       "      <th>45</th>\n",
       "      <th>46</th>\n",
       "      <th>47</th>\n",
       "      <th>48</th>\n",
       "      <th>49</th>\n",
       "      <th>prediction_label</th>\n",
       "    </tr>\n",
       "  </thead>\n",
       "  <tbody>\n",
       "    <tr>\n",
       "      <th>0</th>\n",
       "      <td>0</td>\n",
       "      <td>0.205930</td>\n",
       "      <td>0.652388</td>\n",
       "      <td>0.255758</td>\n",
       "      <td>0.046475</td>\n",
       "      <td>0.897025</td>\n",
       "      <td>0.727579</td>\n",
       "      <td>0.284180</td>\n",
       "      <td>0.125263</td>\n",
       "      <td>0.589074</td>\n",
       "      <td>...</td>\n",
       "      <td>0.224698</td>\n",
       "      <td>0.969174</td>\n",
       "      <td>0.280593</td>\n",
       "      <td>0.618193</td>\n",
       "      <td>0.217338</td>\n",
       "      <td>0.006883</td>\n",
       "      <td>0.632865</td>\n",
       "      <td>0.067311</td>\n",
       "      <td>0.741465</td>\n",
       "      <td>12.380677</td>\n",
       "    </tr>\n",
       "    <tr>\n",
       "      <th>1</th>\n",
       "      <td>1</td>\n",
       "      <td>0.558705</td>\n",
       "      <td>0.758161</td>\n",
       "      <td>0.652859</td>\n",
       "      <td>0.926265</td>\n",
       "      <td>0.643922</td>\n",
       "      <td>0.113127</td>\n",
       "      <td>0.038248</td>\n",
       "      <td>0.660068</td>\n",
       "      <td>0.688393</td>\n",
       "      <td>...</td>\n",
       "      <td>0.650349</td>\n",
       "      <td>0.399282</td>\n",
       "      <td>0.966604</td>\n",
       "      <td>0.774212</td>\n",
       "      <td>0.779575</td>\n",
       "      <td>0.085467</td>\n",
       "      <td>0.264312</td>\n",
       "      <td>0.305771</td>\n",
       "      <td>0.935842</td>\n",
       "      <td>22.422001</td>\n",
       "    </tr>\n",
       "    <tr>\n",
       "      <th>2</th>\n",
       "      <td>2</td>\n",
       "      <td>0.439016</td>\n",
       "      <td>0.540490</td>\n",
       "      <td>0.513547</td>\n",
       "      <td>0.112476</td>\n",
       "      <td>0.263009</td>\n",
       "      <td>0.495977</td>\n",
       "      <td>0.119652</td>\n",
       "      <td>0.911965</td>\n",
       "      <td>0.004279</td>\n",
       "      <td>...</td>\n",
       "      <td>0.958626</td>\n",
       "      <td>0.290434</td>\n",
       "      <td>0.729213</td>\n",
       "      <td>0.027318</td>\n",
       "      <td>0.154054</td>\n",
       "      <td>0.442677</td>\n",
       "      <td>0.155767</td>\n",
       "      <td>0.883883</td>\n",
       "      <td>0.745883</td>\n",
       "      <td>9.313775</td>\n",
       "    </tr>\n",
       "    <tr>\n",
       "      <th>3</th>\n",
       "      <td>3</td>\n",
       "      <td>0.134630</td>\n",
       "      <td>0.383163</td>\n",
       "      <td>0.752549</td>\n",
       "      <td>0.797948</td>\n",
       "      <td>NaN</td>\n",
       "      <td>0.225226</td>\n",
       "      <td>NaN</td>\n",
       "      <td>0.297200</td>\n",
       "      <td>0.738939</td>\n",
       "      <td>...</td>\n",
       "      <td>0.186822</td>\n",
       "      <td>0.989653</td>\n",
       "      <td>0.281193</td>\n",
       "      <td>0.258859</td>\n",
       "      <td>0.441496</td>\n",
       "      <td>0.565783</td>\n",
       "      <td>0.362619</td>\n",
       "      <td>0.762882</td>\n",
       "      <td>0.684027</td>\n",
       "      <td>13.177885</td>\n",
       "    </tr>\n",
       "    <tr>\n",
       "      <th>4</th>\n",
       "      <td>4</td>\n",
       "      <td>0.438050</td>\n",
       "      <td>0.489011</td>\n",
       "      <td>0.782408</td>\n",
       "      <td>0.031854</td>\n",
       "      <td>0.537418</td>\n",
       "      <td>0.987593</td>\n",
       "      <td>0.513891</td>\n",
       "      <td>0.827084</td>\n",
       "      <td>0.307579</td>\n",
       "      <td>...</td>\n",
       "      <td>0.304691</td>\n",
       "      <td>0.751521</td>\n",
       "      <td>0.664380</td>\n",
       "      <td>0.594378</td>\n",
       "      <td>0.339033</td>\n",
       "      <td>0.749873</td>\n",
       "      <td>0.445847</td>\n",
       "      <td>0.753067</td>\n",
       "      <td>0.742491</td>\n",
       "      <td>10.523418</td>\n",
       "    </tr>\n",
       "    <tr>\n",
       "      <th>...</th>\n",
       "      <td>...</td>\n",
       "      <td>...</td>\n",
       "      <td>...</td>\n",
       "      <td>...</td>\n",
       "      <td>...</td>\n",
       "      <td>...</td>\n",
       "      <td>...</td>\n",
       "      <td>...</td>\n",
       "      <td>...</td>\n",
       "      <td>...</td>\n",
       "      <td>...</td>\n",
       "      <td>...</td>\n",
       "      <td>...</td>\n",
       "      <td>...</td>\n",
       "      <td>...</td>\n",
       "      <td>...</td>\n",
       "      <td>...</td>\n",
       "      <td>...</td>\n",
       "      <td>...</td>\n",
       "      <td>...</td>\n",
       "      <td>...</td>\n",
       "    </tr>\n",
       "    <tr>\n",
       "      <th>9995</th>\n",
       "      <td>9995</td>\n",
       "      <td>0.440654</td>\n",
       "      <td>0.589482</td>\n",
       "      <td>0.107447</td>\n",
       "      <td>0.421161</td>\n",
       "      <td>0.366972</td>\n",
       "      <td>0.990755</td>\n",
       "      <td>0.804103</td>\n",
       "      <td>0.914759</td>\n",
       "      <td>0.067759</td>\n",
       "      <td>...</td>\n",
       "      <td>0.367901</td>\n",
       "      <td>0.180346</td>\n",
       "      <td>0.854039</td>\n",
       "      <td>0.940756</td>\n",
       "      <td>0.549146</td>\n",
       "      <td>0.246361</td>\n",
       "      <td>0.691905</td>\n",
       "      <td>0.644239</td>\n",
       "      <td>0.712824</td>\n",
       "      <td>17.498096</td>\n",
       "    </tr>\n",
       "    <tr>\n",
       "      <th>9996</th>\n",
       "      <td>9996</td>\n",
       "      <td>0.866339</td>\n",
       "      <td>0.907023</td>\n",
       "      <td>0.716195</td>\n",
       "      <td>0.925430</td>\n",
       "      <td>NaN</td>\n",
       "      <td>0.683730</td>\n",
       "      <td>NaN</td>\n",
       "      <td>0.423257</td>\n",
       "      <td>0.579604</td>\n",
       "      <td>...</td>\n",
       "      <td>0.454383</td>\n",
       "      <td>0.574171</td>\n",
       "      <td>0.237316</td>\n",
       "      <td>0.861150</td>\n",
       "      <td>0.466229</td>\n",
       "      <td>0.613413</td>\n",
       "      <td>0.176987</td>\n",
       "      <td>0.169308</td>\n",
       "      <td>0.701065</td>\n",
       "      <td>18.526897</td>\n",
       "    </tr>\n",
       "    <tr>\n",
       "      <th>9997</th>\n",
       "      <td>9997</td>\n",
       "      <td>0.816489</td>\n",
       "      <td>0.446864</td>\n",
       "      <td>0.818330</td>\n",
       "      <td>0.549638</td>\n",
       "      <td>0.086693</td>\n",
       "      <td>0.902314</td>\n",
       "      <td>0.804719</td>\n",
       "      <td>0.835031</td>\n",
       "      <td>0.193716</td>\n",
       "      <td>...</td>\n",
       "      <td>0.374284</td>\n",
       "      <td>0.776933</td>\n",
       "      <td>0.351873</td>\n",
       "      <td>0.177375</td>\n",
       "      <td>0.544466</td>\n",
       "      <td>0.652660</td>\n",
       "      <td>0.011173</td>\n",
       "      <td>0.826217</td>\n",
       "      <td>0.645024</td>\n",
       "      <td>20.180396</td>\n",
       "    </tr>\n",
       "    <tr>\n",
       "      <th>9998</th>\n",
       "      <td>9998</td>\n",
       "      <td>0.537103</td>\n",
       "      <td>0.616758</td>\n",
       "      <td>0.605160</td>\n",
       "      <td>0.813836</td>\n",
       "      <td>0.123699</td>\n",
       "      <td>0.954696</td>\n",
       "      <td>0.305725</td>\n",
       "      <td>0.473633</td>\n",
       "      <td>0.949427</td>\n",
       "      <td>...</td>\n",
       "      <td>0.475040</td>\n",
       "      <td>0.007321</td>\n",
       "      <td>0.830836</td>\n",
       "      <td>0.613489</td>\n",
       "      <td>0.921387</td>\n",
       "      <td>0.931801</td>\n",
       "      <td>0.824637</td>\n",
       "      <td>0.604733</td>\n",
       "      <td>0.060733</td>\n",
       "      <td>17.616948</td>\n",
       "    </tr>\n",
       "    <tr>\n",
       "      <th>9999</th>\n",
       "      <td>9999</td>\n",
       "      <td>0.258765</td>\n",
       "      <td>0.748307</td>\n",
       "      <td>0.289246</td>\n",
       "      <td>0.244252</td>\n",
       "      <td>0.348219</td>\n",
       "      <td>0.655473</td>\n",
       "      <td>0.565075</td>\n",
       "      <td>0.308486</td>\n",
       "      <td>0.271801</td>\n",
       "      <td>...</td>\n",
       "      <td>0.475538</td>\n",
       "      <td>0.789977</td>\n",
       "      <td>0.941962</td>\n",
       "      <td>0.317651</td>\n",
       "      <td>0.253847</td>\n",
       "      <td>0.676055</td>\n",
       "      <td>0.269255</td>\n",
       "      <td>0.096473</td>\n",
       "      <td>0.896325</td>\n",
       "      <td>10.524982</td>\n",
       "    </tr>\n",
       "  </tbody>\n",
       "</table>\n",
       "<p>10000 rows × 52 columns</p>\n",
       "</div>"
      ],
      "text/plain": [
       "        Id         0         1         2         3         4         5  \\\n",
       "0        0  0.205930  0.652388  0.255758  0.046475  0.897025  0.727579   \n",
       "1        1  0.558705  0.758161  0.652859  0.926265  0.643922  0.113127   \n",
       "2        2  0.439016  0.540490  0.513547  0.112476  0.263009  0.495977   \n",
       "3        3  0.134630  0.383163  0.752549  0.797948       NaN  0.225226   \n",
       "4        4  0.438050  0.489011  0.782408  0.031854  0.537418  0.987593   \n",
       "...    ...       ...       ...       ...       ...       ...       ...   \n",
       "9995  9995  0.440654  0.589482  0.107447  0.421161  0.366972  0.990755   \n",
       "9996  9996  0.866339  0.907023  0.716195  0.925430       NaN  0.683730   \n",
       "9997  9997  0.816489  0.446864  0.818330  0.549638  0.086693  0.902314   \n",
       "9998  9998  0.537103  0.616758  0.605160  0.813836  0.123699  0.954696   \n",
       "9999  9999  0.258765  0.748307  0.289246  0.244252  0.348219  0.655473   \n",
       "\n",
       "             6         7         8  ...        41        42        43  \\\n",
       "0     0.284180  0.125263  0.589074  ...  0.224698  0.969174  0.280593   \n",
       "1     0.038248  0.660068  0.688393  ...  0.650349  0.399282  0.966604   \n",
       "2     0.119652  0.911965  0.004279  ...  0.958626  0.290434  0.729213   \n",
       "3          NaN  0.297200  0.738939  ...  0.186822  0.989653  0.281193   \n",
       "4     0.513891  0.827084  0.307579  ...  0.304691  0.751521  0.664380   \n",
       "...        ...       ...       ...  ...       ...       ...       ...   \n",
       "9995  0.804103  0.914759  0.067759  ...  0.367901  0.180346  0.854039   \n",
       "9996       NaN  0.423257  0.579604  ...  0.454383  0.574171  0.237316   \n",
       "9997  0.804719  0.835031  0.193716  ...  0.374284  0.776933  0.351873   \n",
       "9998  0.305725  0.473633  0.949427  ...  0.475040  0.007321  0.830836   \n",
       "9999  0.565075  0.308486  0.271801  ...  0.475538  0.789977  0.941962   \n",
       "\n",
       "            44        45        46        47        48        49  \\\n",
       "0     0.618193  0.217338  0.006883  0.632865  0.067311  0.741465   \n",
       "1     0.774212  0.779575  0.085467  0.264312  0.305771  0.935842   \n",
       "2     0.027318  0.154054  0.442677  0.155767  0.883883  0.745883   \n",
       "3     0.258859  0.441496  0.565783  0.362619  0.762882  0.684027   \n",
       "4     0.594378  0.339033  0.749873  0.445847  0.753067  0.742491   \n",
       "...        ...       ...       ...       ...       ...       ...   \n",
       "9995  0.940756  0.549146  0.246361  0.691905  0.644239  0.712824   \n",
       "9996  0.861150  0.466229  0.613413  0.176987  0.169308  0.701065   \n",
       "9997  0.177375  0.544466  0.652660  0.011173  0.826217  0.645024   \n",
       "9998  0.613489  0.921387  0.931801  0.824637  0.604733  0.060733   \n",
       "9999  0.317651  0.253847  0.676055  0.269255  0.096473  0.896325   \n",
       "\n",
       "      prediction_label  \n",
       "0            12.380677  \n",
       "1            22.422001  \n",
       "2             9.313775  \n",
       "3            13.177885  \n",
       "4            10.523418  \n",
       "...                ...  \n",
       "9995         17.498096  \n",
       "9996         18.526897  \n",
       "9997         20.180396  \n",
       "9998         17.616948  \n",
       "9999         10.524982  \n",
       "\n",
       "[10000 rows x 52 columns]"
      ]
     },
     "execution_count": 6,
     "metadata": {},
     "output_type": "execute_result"
    }
   ],
   "source": [
    "Pretrain = predict_model(Model, data = tda.drop('value', axis = 1))\n",
    "Pretrain"
   ]
  },
  {
   "cell_type": "code",
   "execution_count": 7,
   "id": "e5bfd2e5",
   "metadata": {
    "execution": {
     "iopub.execute_input": "2023-07-12T18:51:02.297842Z",
     "iopub.status.busy": "2023-07-12T18:51:02.297405Z",
     "iopub.status.idle": "2023-07-12T18:51:02.983124Z",
     "shell.execute_reply": "2023-07-12T18:51:02.982001Z"
    },
    "papermill": {
     "duration": 0.708018,
     "end_time": "2023-07-12T18:51:02.985447",
     "exception": false,
     "start_time": "2023-07-12T18:51:02.277429",
     "status": "completed"
    },
    "tags": []
   },
   "outputs": [
    {
     "data": {
      "image/png": "[encoded data removed]",
      "text/plain": [
       "<Figure size 800x550 with 1 Axes>"
      ]
     },
     "metadata": {},
     "output_type": "display_data"
    }
   ],
   "source": [
    "import matplotlib.pyplot as plt\n",
    "\n",
    "predicted = Pretrain.iloc[:, -1]  # Last column\n",
    "actual = tda.iloc[:, -1]  # 2nd last column\n",
    "\n",
    "plt.scatter(actual, predicted)\n",
    "plt.xlabel('Predicted')\n",
    "plt.ylabel('Actual')\n",
    "plt.title('Actul Vs Predicted')\n",
    "plt.savefig(\"result-scatter-plot.jpg\", dpi=300)\n",
    "plt.show()\n"
   ]
  },
  {
   "cell_type": "code",
   "execution_count": 8,
   "id": "39988de2",
   "metadata": {
    "execution": {
     "iopub.execute_input": "2023-07-12T18:51:03.025837Z",
     "iopub.status.busy": "2023-07-12T18:51:03.025099Z",
     "iopub.status.idle": "2023-07-12T18:51:04.037545Z",
     "shell.execute_reply": "2023-07-12T18:51:04.036409Z"
    },
    "papermill": {
     "duration": 1.035501,
     "end_time": "2023-07-12T18:51:04.040334",
     "exception": false,
     "start_time": "2023-07-12T18:51:03.004833",
     "status": "completed"
    },
    "tags": []
   },
   "outputs": [
    {
     "data": {
      "text/html": [],
      "text/plain": [
       "<IPython.core.display.HTML object>"
      ]
     },
     "metadata": {},
     "output_type": "display_data"
    },
    {
     "data": {
      "image/png": "[encoded data removed]",
      "text/plain": [
       "<Figure size 800x550 with 1 Axes>"
      ]
     },
     "metadata": {},
     "output_type": "display_data"
    }
   ],
   "source": [
    "plot_model(Model, plot='error')"
   ]
  },
  {
   "cell_type": "code",
   "execution_count": 9,
   "id": "f0e77a6a",
   "metadata": {
    "execution": {
     "iopub.execute_input": "2023-07-12T18:51:04.083430Z",
     "iopub.status.busy": "2023-07-12T18:51:04.083049Z",
     "iopub.status.idle": "2023-07-12T18:51:04.309438Z",
     "shell.execute_reply": "2023-07-12T18:51:04.307930Z"
    },
    "papermill": {
     "duration": 0.250973,
     "end_time": "2023-07-12T18:51:04.312252",
     "exception": false,
     "start_time": "2023-07-12T18:51:04.061279",
     "status": "completed"
    },
    "tags": []
   },
   "outputs": [
    {
     "data": {
      "text/html": [],
      "text/plain": [
       "<IPython.core.display.HTML object>"
      ]
     },
     "metadata": {},
     "output_type": "display_data"
    },
    {
     "data": {
      "text/html": [
       "<div>\n",
       "<style scoped>\n",
       "    .dataframe tbody tr th:only-of-type {\n",
       "        vertical-align: middle;\n",
       "    }\n",
       "\n",
       "    .dataframe tbody tr th {\n",
       "        vertical-align: top;\n",
       "    }\n",
       "\n",
       "    .dataframe thead th {\n",
       "        text-align: right;\n",
       "    }\n",
       "</style>\n",
       "<table border=\"1\" class=\"dataframe\">\n",
       "  <thead>\n",
       "    <tr style=\"text-align: right;\">\n",
       "      <th></th>\n",
       "      <th>Parameters</th>\n",
       "    </tr>\n",
       "  </thead>\n",
       "  <tbody>\n",
       "    <tr>\n",
       "      <th>nan_mode</th>\n",
       "      <td>Min</td>\n",
       "    </tr>\n",
       "    <tr>\n",
       "      <th>eval_metric</th>\n",
       "      <td>RMSE</td>\n",
       "    </tr>\n",
       "    <tr>\n",
       "      <th>iterations</th>\n",
       "      <td>1000</td>\n",
       "    </tr>\n",
       "    <tr>\n",
       "      <th>sampling_frequency</th>\n",
       "      <td>PerTree</td>\n",
       "    </tr>\n",
       "    <tr>\n",
       "      <th>leaf_estimation_method</th>\n",
       "      <td>Newton</td>\n",
       "    </tr>\n",
       "    <tr>\n",
       "      <th>grow_policy</th>\n",
       "      <td>SymmetricTree</td>\n",
       "    </tr>\n",
       "    <tr>\n",
       "      <th>penalties_coefficient</th>\n",
       "      <td>1</td>\n",
       "    </tr>\n",
       "    <tr>\n",
       "      <th>boosting_type</th>\n",
       "      <td>Plain</td>\n",
       "    </tr>\n",
       "    <tr>\n",
       "      <th>model_shrink_mode</th>\n",
       "      <td>Constant</td>\n",
       "    </tr>\n",
       "    <tr>\n",
       "      <th>feature_border_type</th>\n",
       "      <td>GreedyLogSum</td>\n",
       "    </tr>\n",
       "    <tr>\n",
       "      <th>bayesian_matrix_reg</th>\n",
       "      <td>0.10000000149011612</td>\n",
       "    </tr>\n",
       "    <tr>\n",
       "      <th>eval_fraction</th>\n",
       "      <td>0</td>\n",
       "    </tr>\n",
       "    <tr>\n",
       "      <th>force_unit_auto_pair_weights</th>\n",
       "      <td>False</td>\n",
       "    </tr>\n",
       "    <tr>\n",
       "      <th>l2_leaf_reg</th>\n",
       "      <td>3</td>\n",
       "    </tr>\n",
       "    <tr>\n",
       "      <th>random_strength</th>\n",
       "      <td>1</td>\n",
       "    </tr>\n",
       "    <tr>\n",
       "      <th>rsm</th>\n",
       "      <td>1</td>\n",
       "    </tr>\n",
       "    <tr>\n",
       "      <th>boost_from_average</th>\n",
       "      <td>True</td>\n",
       "    </tr>\n",
       "    <tr>\n",
       "      <th>model_size_reg</th>\n",
       "      <td>0.5</td>\n",
       "    </tr>\n",
       "    <tr>\n",
       "      <th>pool_metainfo_options</th>\n",
       "      <td>{'tags': {}}</td>\n",
       "    </tr>\n",
       "    <tr>\n",
       "      <th>subsample</th>\n",
       "      <td>0.800000011920929</td>\n",
       "    </tr>\n",
       "    <tr>\n",
       "      <th>use_best_model</th>\n",
       "      <td>False</td>\n",
       "    </tr>\n",
       "    <tr>\n",
       "      <th>random_seed</th>\n",
       "      <td>4129</td>\n",
       "    </tr>\n",
       "    <tr>\n",
       "      <th>depth</th>\n",
       "      <td>6</td>\n",
       "    </tr>\n",
       "    <tr>\n",
       "      <th>posterior_sampling</th>\n",
       "      <td>False</td>\n",
       "    </tr>\n",
       "    <tr>\n",
       "      <th>border_count</th>\n",
       "      <td>254</td>\n",
       "    </tr>\n",
       "    <tr>\n",
       "      <th>classes_count</th>\n",
       "      <td>0</td>\n",
       "    </tr>\n",
       "    <tr>\n",
       "      <th>auto_class_weights</th>\n",
       "      <td>None</td>\n",
       "    </tr>\n",
       "    <tr>\n",
       "      <th>sparse_features_conflict_fraction</th>\n",
       "      <td>0</td>\n",
       "    </tr>\n",
       "    <tr>\n",
       "      <th>leaf_estimation_backtracking</th>\n",
       "      <td>AnyImprovement</td>\n",
       "    </tr>\n",
       "    <tr>\n",
       "      <th>best_model_min_trees</th>\n",
       "      <td>1</td>\n",
       "    </tr>\n",
       "    <tr>\n",
       "      <th>model_shrink_rate</th>\n",
       "      <td>0</td>\n",
       "    </tr>\n",
       "    <tr>\n",
       "      <th>min_data_in_leaf</th>\n",
       "      <td>1</td>\n",
       "    </tr>\n",
       "    <tr>\n",
       "      <th>loss_function</th>\n",
       "      <td>RMSE</td>\n",
       "    </tr>\n",
       "    <tr>\n",
       "      <th>learning_rate</th>\n",
       "      <td>0.055681001394987106</td>\n",
       "    </tr>\n",
       "    <tr>\n",
       "      <th>score_function</th>\n",
       "      <td>Cosine</td>\n",
       "    </tr>\n",
       "    <tr>\n",
       "      <th>task_type</th>\n",
       "      <td>CPU</td>\n",
       "    </tr>\n",
       "    <tr>\n",
       "      <th>leaf_estimation_iterations</th>\n",
       "      <td>1</td>\n",
       "    </tr>\n",
       "    <tr>\n",
       "      <th>bootstrap_type</th>\n",
       "      <td>MVS</td>\n",
       "    </tr>\n",
       "    <tr>\n",
       "      <th>max_leaves</th>\n",
       "      <td>64</td>\n",
       "    </tr>\n",
       "  </tbody>\n",
       "</table>\n",
       "</div>"
      ],
      "text/plain": [
       "                                             Parameters\n",
       "nan_mode                                            Min\n",
       "eval_metric                                        RMSE\n",
       "iterations                                         1000\n",
       "sampling_frequency                              PerTree\n",
       "leaf_estimation_method                           Newton\n",
       "grow_policy                               SymmetricTree\n",
       "penalties_coefficient                                 1\n",
       "boosting_type                                     Plain\n",
       "model_shrink_mode                              Constant\n",
       "feature_border_type                        GreedyLogSum\n",
       "bayesian_matrix_reg                 0.10000000149011612\n",
       "eval_fraction                                         0\n",
       "force_unit_auto_pair_weights                      False\n",
       "l2_leaf_reg                                           3\n",
       "random_strength                                       1\n",
       "rsm                                                   1\n",
       "boost_from_average                                 True\n",
       "model_size_reg                                      0.5\n",
       "pool_metainfo_options                      {'tags': {}}\n",
       "subsample                             0.800000011920929\n",
       "use_best_model                                    False\n",
       "random_seed                                        4129\n",
       "depth                                                 6\n",
       "posterior_sampling                                False\n",
       "border_count                                        254\n",
       "classes_count                                         0\n",
       "auto_class_weights                                 None\n",
       "sparse_features_conflict_fraction                     0\n",
       "leaf_estimation_backtracking             AnyImprovement\n",
       "best_model_min_trees                                  1\n",
       "model_shrink_rate                                     0\n",
       "min_data_in_leaf                                      1\n",
       "loss_function                                      RMSE\n",
       "learning_rate                      0.055681001394987106\n",
       "score_function                                   Cosine\n",
       "task_type                                           CPU\n",
       "leaf_estimation_iterations                            1\n",
       "bootstrap_type                                      MVS\n",
       "max_leaves                                           64"
      ]
     },
     "metadata": {},
     "output_type": "display_data"
    }
   ],
   "source": [
    "plot_model(Model, plot='parameter')"
   ]
  },
  {
   "cell_type": "code",
   "execution_count": 10,
   "id": "c5b8b0df",
   "metadata": {
    "execution": {
     "iopub.execute_input": "2023-07-12T18:51:04.359400Z",
     "iopub.status.busy": "2023-07-12T18:51:04.358986Z"
    },
    "papermill": {
     "duration": null,
     "end_time": null,
     "exception": false,
     "start_time": "2023-07-12T18:51:04.334855",
     "status": "running"
    },
    "tags": []
   },
   "outputs": [
    {
     "data": {
      "text/html": [
       "<div>\n",
       "<style scoped>\n",
       "    .dataframe tbody tr th:only-of-type {\n",
       "        vertical-align: middle;\n",
       "    }\n",
       "\n",
       "    .dataframe tbody tr th {\n",
       "        vertical-align: top;\n",
       "    }\n",
       "\n",
       "    .dataframe thead th {\n",
       "        text-align: right;\n",
       "    }\n",
       "</style>\n",
       "<table border=\"1\" class=\"dataframe\">\n",
       "  <thead>\n",
       "    <tr style=\"text-align: right;\">\n",
       "      <th></th>\n",
       "      <th></th>\n",
       "      <th></th>\n",
       "    </tr>\n",
       "    <tr>\n",
       "      <th></th>\n",
       "      <th></th>\n",
       "      <th></th>\n",
       "    </tr>\n",
       "  </thead>\n",
       "  <tbody>\n",
       "    <tr>\n",
       "      <th>Initiated</th>\n",
       "      <td>. . . . . . . . . . . . . . . . . .</td>\n",
       "      <td>18:51:04</td>\n",
       "    </tr>\n",
       "    <tr>\n",
       "      <th>Status</th>\n",
       "      <td>. . . . . . . . . . . . . . . . . .</td>\n",
       "      <td>Searching Hyperparameters</td>\n",
       "    </tr>\n",
       "    <tr>\n",
       "      <th>Estimator</th>\n",
       "      <td>. . . . . . . . . . . . . . . . . .</td>\n",
       "      <td>CatBoost Regressor</td>\n",
       "    </tr>\n",
       "  </tbody>\n",
       "</table>\n",
       "</div>"
      ],
      "text/plain": [
       "                                                                         \n",
       "                                                                         \n",
       "Initiated  . . . . . . . . . . . . . . . . . .                   18:51:04\n",
       "Status     . . . . . . . . . . . . . . . . . .  Searching Hyperparameters\n",
       "Estimator  . . . . . . . . . . . . . . . . . .         CatBoost Regressor"
      ]
     },
     "metadata": {},
     "output_type": "display_data"
    },
    {
     "data": {
      "text/html": [],
      "text/plain": [
       "<IPython.core.display.HTML object>"
      ]
     },
     "metadata": {},
     "output_type": "display_data"
    },
    {
     "data": {
      "application/vnd.jupyter.widget-view+json": {
       "model_id": "643f841517e0481ea7120ef9b3c762a3",
       "version_major": 2,
       "version_minor": 0
      },
      "text/plain": [
       "Processing:   0%|          | 0/7 [00:00<?, ?it/s]"
      ]
     },
     "metadata": {},
     "output_type": "display_data"
    },
    {
     "name": "stdout",
     "output_type": "stream",
     "text": [
      "Fitting 10 folds for each of 5000 candidates, totalling 50000 fits\n"
     ]
    },
    {
     "name": "stderr",
     "output_type": "stream",
     "text": [
      "/opt/conda/lib/python3.10/site-packages/scipy/__init__.py:146: UserWarning: A NumPy version >=1.16.5 and <1.23.0 is required for this version of SciPy (detected version 1.23.5\n",
      "  warnings.warn(f\"A NumPy version >={np_minversion} and <{np_maxversion}\"\n"
     ]
    },
    {
     "name": "stderr",
     "output_type": "stream",
     "text": [
      "/opt/conda/lib/python3.10/site-packages/scipy/__init__.py:146: UserWarning: A NumPy version >=1.16.5 and <1.23.0 is required for this version of SciPy (detected version 1.23.5\n",
      "  warnings.warn(f\"A NumPy version >={np_minversion} and <{np_maxversion}\"\n"
     ]
    },
    {
     "name": "stderr",
     "output_type": "stream",
     "text": [
      "/opt/conda/lib/python3.10/site-packages/scipy/__init__.py:146: UserWarning: A NumPy version >=1.16.5 and <1.23.0 is required for this version of SciPy (detected version 1.23.5\n",
      "  warnings.warn(f\"A NumPy version >={np_minversion} and <{np_maxversion}\"\n"
     ]
    },
    {
     "name": "stderr",
     "output_type": "stream",
     "text": [
      "/opt/conda/lib/python3.10/site-packages/scipy/__init__.py:146: UserWarning: A NumPy version >=1.16.5 and <1.23.0 is required for this version of SciPy (detected version 1.23.5\n",
      "  warnings.warn(f\"A NumPy version >={np_minversion} and <{np_maxversion}\"\n"
     ]
    }
   ],
   "source": [
    "TunedModel = tune_model(Model, n_iter = 5000)"
   ]
  },
  {
   "cell_type": "code",
   "execution_count": null,
   "id": "f52dda01",
   "metadata": {
    "execution": {
     "iopub.execute_input": "2023-07-12T18:40:13.275189Z",
     "iopub.status.busy": "2023-07-12T18:40:13.274782Z",
     "iopub.status.idle": "2023-07-12T18:40:13.371126Z",
     "shell.execute_reply": "2023-07-12T18:40:13.369426Z",
     "shell.execute_reply.started": "2023-07-12T18:40:13.275153Z"
    },
    "papermill": {
     "duration": null,
     "end_time": null,
     "exception": null,
     "start_time": null,
     "status": "pending"
    },
    "tags": []
   },
   "outputs": [],
   "source": [
    "testD = pd.read_csv('/kaggle/input/thapar-summer-school-2023/test.csv')\n",
    "testD.head()"
   ]
  },
  {
   "cell_type": "code",
   "execution_count": null,
   "id": "5020ee06",
   "metadata": {
    "execution": {
     "iopub.execute_input": "2023-07-12T18:40:23.472556Z",
     "iopub.status.busy": "2023-07-12T18:40:23.471910Z",
     "iopub.status.idle": "2023-07-12T18:40:24.306858Z",
     "shell.execute_reply": "2023-07-12T18:40:24.305641Z",
     "shell.execute_reply.started": "2023-07-12T18:40:23.472515Z"
    },
    "papermill": {
     "duration": null,
     "end_time": null,
     "exception": null,
     "start_time": null,
     "status": "pending"
    },
    "tags": []
   },
   "outputs": [],
   "source": [
    "Predictions = predict_model(Model, data = testD)\n",
    "Predictions"
   ]
  },
  {
   "cell_type": "code",
   "execution_count": null,
   "id": "bb97940a",
   "metadata": {
    "execution": {
     "iopub.execute_input": "2023-07-12T18:42:49.435620Z",
     "iopub.status.busy": "2023-07-12T18:42:49.435185Z",
     "iopub.status.idle": "2023-07-12T18:42:49.466319Z",
     "shell.execute_reply": "2023-07-12T18:42:49.464770Z",
     "shell.execute_reply.started": "2023-07-12T18:42:49.435585Z"
    },
    "papermill": {
     "duration": null,
     "end_time": null,
     "exception": null,
     "start_time": null,
     "status": "pending"
    },
    "tags": []
   },
   "outputs": [],
   "source": [
    "output = pd.DataFrame({'id': testD.Id, 'value': Predictions.prediction_label})\n",
    "output.to_csv('submission.csv', index=False)\n",
    "print(\"Your submission was successfully saved!\")"
   ]
  }
 ],
 "metadata": {
  "kernelspec": {
   "display_name": "Python 3",
   "language": "python",
   "name": "python3"
  },
  "language_info": {
   "codemirror_mode": {
    "name": "ipython",
    "version": 3
   },
   "file_extension": ".py",
   "mimetype": "text/x-python",
   "name": "python",
   "nbconvert_exporter": "python",
   "pygments_lexer": "ipython3",
   "version": "3.6.4"
  },
  "papermill": {
   "default_parameters": {},
   "duration": null,
   "end_time": null,
   "environment_variables": {},
   "exception": null,
   "input_path": "__notebook__.ipynb",
   "output_path": "__notebook__.ipynb",
   "parameters": {},
   "start_time": "2023-07-12T18:43:47.158004",
   "version": "2.4.0"
  }
 },
 "nbformat": 4,
 "nbformat_minor": 5
}